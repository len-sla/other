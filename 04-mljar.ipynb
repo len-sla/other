{
 "cells": [
  {
   "cell_type": "markdown",
   "metadata": {},
   "source": [
    "## Checking possibilities of AutoML package from MLJAR\n",
    "\n",
    "---\n",
    "\n",
    "based on the https://github.com/mljar/mljar-supervised"
   ]
  },
  {
   "cell_type": "markdown",
   "metadata": {},
   "source": [
    "#### Supported evaluation metrics (eval_metric argument in AutoML())\n",
    "---\n",
    "\n",
    "    for binary classification: logloss, auc, f1, average_precision, accuracy- default is logloss\n",
    "    for mutliclass classification: logloss, f1, accuracy - default is logloss\n",
    "    for regression: rmse, mse, mae, r2, mape, spearman, pearson - default is rmse\n",
    "\n"
   ]
  },
  {
   "cell_type": "markdown",
   "metadata": {},
   "source": [
    "Lets now use data for flats price in Moskow and see the results with only automatic setup"
   ]
  },
  {
   "cell_type": "markdown",
   "metadata": {},
   "source": [
    "## 1. Loading libraries"
   ]
  },
  {
   "cell_type": "code",
   "execution_count": 1,
   "metadata": {},
   "outputs": [
    {
     "name": "stderr",
     "output_type": "stream",
     "text": [
      "pandas.util.testing is deprecated. Use the functions in the public API at pandas.testing instead.\n"
     ]
    }
   ],
   "source": [
    "import numpy as np\n",
    "import pandas as pd\n",
    "pd.set_option('display.max_columns', 500) # to avoid displaying only couple of columns\n",
    "from sklearn.model_selection import train_test_split\n",
    "from supervised.automl import AutoML\n",
    "from tqdm import tqdm"
   ]
  },
  {
   "cell_type": "markdown",
   "metadata": {},
   "source": [
    "## 2. Loading data and preparing set of features and target  (X, y)"
   ]
  },
  {
   "cell_type": "code",
   "execution_count": 2,
   "metadata": {},
   "outputs": [],
   "source": [
    "df_train = pd.read_csv(\n",
    "    \"./moskwa/train_property.csv\"\n",
    ")"
   ]
  },
  {
   "cell_type": "code",
   "execution_count": 3,
   "metadata": {},
   "outputs": [
    {
     "data": {
      "text/html": [
       "<div>\n",
       "<style scoped>\n",
       "    .dataframe tbody tr th:only-of-type {\n",
       "        vertical-align: middle;\n",
       "    }\n",
       "\n",
       "    .dataframe tbody tr th {\n",
       "        vertical-align: top;\n",
       "    }\n",
       "\n",
       "    .dataframe thead th {\n",
       "        text-align: right;\n",
       "    }\n",
       "</style>\n",
       "<table border=\"1\" class=\"dataframe\">\n",
       "  <thead>\n",
       "    <tr style=\"text-align: right;\">\n",
       "      <th></th>\n",
       "      <th>Unnamed: 0</th>\n",
       "      <th>breadcrumbs</th>\n",
       "      <th>date</th>\n",
       "      <th>geo_block</th>\n",
       "      <th>owner</th>\n",
       "      <th>price</th>\n",
       "      <th>Security:</th>\n",
       "      <th>Building type:</th>\n",
       "      <th>Object type:</th>\n",
       "      <th>Ad type:</th>\n",
       "      <th>Commission agent:</th>\n",
       "      <th>Construction phase:</th>\n",
       "      <th>Housing class:</th>\n",
       "      <th>Elevator:</th>\n",
       "      <th>Bathroom type:</th>\n",
       "      <th>Balcony type:</th>\n",
       "      <th>Mortgage possible:</th>\n",
       "      <th>The view from the window:</th>\n",
       "      <th>Garbage chute:</th>\n",
       "      <th>Repair:</th>\n",
       "      <th>Fridge:</th>\n",
       "      <th>Phone:</th>\n",
       "      <th>Furniture:</th>\n",
       "      <th>Free layout:</th>\n",
       "      <th>It is possible to bargain:</th>\n",
       "      <th>Floor covering:</th>\n",
       "      <th>Room type:</th>\n",
       "      <th>Internet:</th>\n",
       "      <th>Kitchen furniture:</th>\n",
       "      <th>TV:</th>\n",
       "      <th>Washing machine:</th>\n",
       "      <th>Foundation type:</th>\n",
       "      <th>Overlap type:</th>\n",
       "      <th>Type of the building:</th>\n",
       "      <th>Playground:</th>\n",
       "      <th>Class:</th>\n",
       "    </tr>\n",
       "  </thead>\n",
       "  <tbody>\n",
       "    <tr>\n",
       "      <th>23856</th>\n",
       "      <td>23856</td>\n",
       "      <td>['Москва', 'м. Мичуринский проспект', 'МЦК Луж...</td>\n",
       "      <td>['9 мая', '5', '(+1 за сегодня)', 'Обновлено 1...</td>\n",
       "      <td>['г. Москва', 'ул Удальцова', 'г. Москва', 'ул...</td>\n",
       "      <td>[]</td>\n",
       "      <td>34.000000</td>\n",
       "      <td>NaN</td>\n",
       "      <td>Monolithic</td>\n",
       "      <td>apartments</td>\n",
       "      <td>secondary</td>\n",
       "      <td>no fee</td>\n",
       "      <td>NaN</td>\n",
       "      <td>NaN</td>\n",
       "      <td>NaN</td>\n",
       "      <td>NaN</td>\n",
       "      <td>NaN</td>\n",
       "      <td>NaN</td>\n",
       "      <td>NaN</td>\n",
       "      <td>NaN</td>\n",
       "      <td>NaN</td>\n",
       "      <td>NaN</td>\n",
       "      <td>NaN</td>\n",
       "      <td>NaN</td>\n",
       "      <td>NaN</td>\n",
       "      <td>NaN</td>\n",
       "      <td>NaN</td>\n",
       "      <td>NaN</td>\n",
       "      <td>NaN</td>\n",
       "      <td>NaN</td>\n",
       "      <td>NaN</td>\n",
       "      <td>NaN</td>\n",
       "      <td>NaN</td>\n",
       "      <td>NaN</td>\n",
       "      <td>NaN</td>\n",
       "      <td>NaN</td>\n",
       "      <td>NaN</td>\n",
       "    </tr>\n",
       "    <tr>\n",
       "      <th>22276</th>\n",
       "      <td>22276</td>\n",
       "      <td>['Москва', 'Хорошёвский', 'МЦК Хорошёво', 'ул....</td>\n",
       "      <td>['16 января', '18', '(+1 за сегодня)', 'Обновл...</td>\n",
       "      <td>['г. Москва', 'Хорошёвский', 'ул Зорге', 'г. М...</td>\n",
       "      <td>[]</td>\n",
       "      <td>15.501775</td>\n",
       "      <td>provided</td>\n",
       "      <td>Monolithic</td>\n",
       "      <td>flat</td>\n",
       "      <td>new building</td>\n",
       "      <td>no fee</td>\n",
       "      <td>Pit</td>\n",
       "      <td>Business class</td>\n",
       "      <td>yes</td>\n",
       "      <td>NaN</td>\n",
       "      <td>NaN</td>\n",
       "      <td>yes</td>\n",
       "      <td>NaN</td>\n",
       "      <td>yes</td>\n",
       "      <td>NaN</td>\n",
       "      <td>NaN</td>\n",
       "      <td>NaN</td>\n",
       "      <td>NaN</td>\n",
       "      <td>NaN</td>\n",
       "      <td>NaN</td>\n",
       "      <td>NaN</td>\n",
       "      <td>NaN</td>\n",
       "      <td>NaN</td>\n",
       "      <td>NaN</td>\n",
       "      <td>NaN</td>\n",
       "      <td>NaN</td>\n",
       "      <td>NaN</td>\n",
       "      <td>NaN</td>\n",
       "      <td>NaN</td>\n",
       "      <td>NaN</td>\n",
       "      <td>NaN</td>\n",
       "    </tr>\n",
       "    <tr>\n",
       "      <th>1124</th>\n",
       "      <td>1124</td>\n",
       "      <td>['Москва', 'МЦК Шелепиха']</td>\n",
       "      <td>['4 марта 2018', '45', '(+1 за сегодня)', 'Обн...</td>\n",
       "      <td>['г. Москва', 'г. Москва']</td>\n",
       "      <td>[]</td>\n",
       "      <td>15.730000</td>\n",
       "      <td>provided</td>\n",
       "      <td>Monolithic</td>\n",
       "      <td>apartments</td>\n",
       "      <td>from the developer</td>\n",
       "      <td>no fee</td>\n",
       "      <td>Commissioned</td>\n",
       "      <td>Business class</td>\n",
       "      <td>yes</td>\n",
       "      <td>NaN</td>\n",
       "      <td>NaN</td>\n",
       "      <td>NaN</td>\n",
       "      <td>NaN</td>\n",
       "      <td>NaN</td>\n",
       "      <td>NaN</td>\n",
       "      <td>NaN</td>\n",
       "      <td>NaN</td>\n",
       "      <td>NaN</td>\n",
       "      <td>NaN</td>\n",
       "      <td>NaN</td>\n",
       "      <td>NaN</td>\n",
       "      <td>NaN</td>\n",
       "      <td>NaN</td>\n",
       "      <td>NaN</td>\n",
       "      <td>NaN</td>\n",
       "      <td>NaN</td>\n",
       "      <td>NaN</td>\n",
       "      <td>NaN</td>\n",
       "      <td>NaN</td>\n",
       "      <td>NaN</td>\n",
       "      <td>NaN</td>\n",
       "    </tr>\n",
       "  </tbody>\n",
       "</table>\n",
       "</div>"
      ],
      "text/plain": [
       "       Unnamed: 0                                        breadcrumbs  \\\n",
       "23856       23856  ['Москва', 'м. Мичуринский проспект', 'МЦК Луж...   \n",
       "22276       22276  ['Москва', 'Хорошёвский', 'МЦК Хорошёво', 'ул....   \n",
       "1124         1124                         ['Москва', 'МЦК Шелепиха']   \n",
       "\n",
       "                                                    date  \\\n",
       "23856  ['9 мая', '5', '(+1 за сегодня)', 'Обновлено 1...   \n",
       "22276  ['16 января', '18', '(+1 за сегодня)', 'Обновл...   \n",
       "1124   ['4 марта 2018', '45', '(+1 за сегодня)', 'Обн...   \n",
       "\n",
       "                                               geo_block owner      price  \\\n",
       "23856  ['г. Москва', 'ул Удальцова', 'г. Москва', 'ул...    []  34.000000   \n",
       "22276  ['г. Москва', 'Хорошёвский', 'ул Зорге', 'г. М...    []  15.501775   \n",
       "1124                          ['г. Москва', 'г. Москва']    []  15.730000   \n",
       "\n",
       "      Security: Building type: Object type:            Ad type:  \\\n",
       "23856       NaN     Monolithic   apartments           secondary   \n",
       "22276  provided     Monolithic         flat        new building   \n",
       "1124   provided     Monolithic   apartments  from the developer   \n",
       "\n",
       "      Commission agent: Construction phase:  Housing class: Elevator:  \\\n",
       "23856            no fee                 NaN             NaN       NaN   \n",
       "22276            no fee                 Pit  Business class       yes   \n",
       "1124             no fee        Commissioned  Business class       yes   \n",
       "\n",
       "      Bathroom type: Balcony type: Mortgage possible:  \\\n",
       "23856            NaN           NaN                NaN   \n",
       "22276            NaN           NaN                yes   \n",
       "1124             NaN           NaN                NaN   \n",
       "\n",
       "      The view from the window: Garbage chute: Repair: Fridge: Phone:  \\\n",
       "23856                       NaN            NaN     NaN     NaN    NaN   \n",
       "22276                       NaN            yes     NaN     NaN    NaN   \n",
       "1124                        NaN            NaN     NaN     NaN    NaN   \n",
       "\n",
       "      Furniture: Free layout: It is possible to bargain: Floor covering:  \\\n",
       "23856        NaN          NaN                        NaN             NaN   \n",
       "22276        NaN          NaN                        NaN             NaN   \n",
       "1124         NaN          NaN                        NaN             NaN   \n",
       "\n",
       "      Room type: Internet: Kitchen furniture:  TV: Washing machine:  \\\n",
       "23856        NaN       NaN                NaN  NaN              NaN   \n",
       "22276        NaN       NaN                NaN  NaN              NaN   \n",
       "1124         NaN       NaN                NaN  NaN              NaN   \n",
       "\n",
       "      Foundation type: Overlap type: Type of the building: Playground: Class:  \n",
       "23856              NaN           NaN                   NaN         NaN    NaN  \n",
       "22276              NaN           NaN                   NaN         NaN    NaN  \n",
       "1124               NaN           NaN                   NaN         NaN    NaN  "
      ]
     },
     "execution_count": 3,
     "metadata": {},
     "output_type": "execute_result"
    }
   ],
   "source": [
    "df_train.sample(3)"
   ]
  },
  {
   "cell_type": "code",
   "execution_count": 4,
   "metadata": {},
   "outputs": [],
   "source": [
    "df_test = pd.read_csv(\n",
    "    \"./moskwa/test_property.csv\"\n",
    ")"
   ]
  },
  {
   "cell_type": "code",
   "execution_count": 5,
   "metadata": {},
   "outputs": [
    {
     "data": {
      "text/html": [
       "<div>\n",
       "<style scoped>\n",
       "    .dataframe tbody tr th:only-of-type {\n",
       "        vertical-align: middle;\n",
       "    }\n",
       "\n",
       "    .dataframe tbody tr th {\n",
       "        vertical-align: top;\n",
       "    }\n",
       "\n",
       "    .dataframe thead th {\n",
       "        text-align: right;\n",
       "    }\n",
       "</style>\n",
       "<table border=\"1\" class=\"dataframe\">\n",
       "  <thead>\n",
       "    <tr style=\"text-align: right;\">\n",
       "      <th></th>\n",
       "      <th>Unnamed: 0</th>\n",
       "      <th>breadcrumbs</th>\n",
       "      <th>date</th>\n",
       "      <th>geo_block</th>\n",
       "      <th>owner</th>\n",
       "      <th>Security:</th>\n",
       "      <th>Building type:</th>\n",
       "      <th>Object type:</th>\n",
       "      <th>Ad type:</th>\n",
       "      <th>Commission agent:</th>\n",
       "      <th>Construction phase:</th>\n",
       "      <th>Housing class:</th>\n",
       "      <th>Elevator:</th>\n",
       "      <th>Bathroom type:</th>\n",
       "      <th>Balcony type:</th>\n",
       "      <th>Mortgage possible:</th>\n",
       "      <th>The view from the window:</th>\n",
       "      <th>Garbage chute:</th>\n",
       "      <th>Repair:</th>\n",
       "      <th>Fridge:</th>\n",
       "      <th>Phone:</th>\n",
       "      <th>Furniture:</th>\n",
       "      <th>Free layout:</th>\n",
       "      <th>It is possible to bargain:</th>\n",
       "      <th>Floor covering:</th>\n",
       "      <th>Room type:</th>\n",
       "      <th>Internet:</th>\n",
       "      <th>Kitchen furniture:</th>\n",
       "      <th>TV:</th>\n",
       "      <th>Washing machine:</th>\n",
       "      <th>Foundation type:</th>\n",
       "      <th>Overlap type:</th>\n",
       "      <th>Type of the building:</th>\n",
       "      <th>Playground:</th>\n",
       "      <th>Class:</th>\n",
       "      <th>id</th>\n",
       "    </tr>\n",
       "  </thead>\n",
       "  <tbody>\n",
       "    <tr>\n",
       "      <th>13404</th>\n",
       "      <td>13404</td>\n",
       "      <td>['Москва', 'Люблино', 'м. Братиславская', 'МЦК...</td>\n",
       "      <td>['24 ноября 2018', '25', '(+2 за сегодня)', 'О...</td>\n",
       "      <td>['г. Москва', 'Люблино', 'г. Москва', 'Люблино']</td>\n",
       "      <td>[]</td>\n",
       "      <td>NaN</td>\n",
       "      <td>Panel</td>\n",
       "      <td>flat</td>\n",
       "      <td>new building</td>\n",
       "      <td>no fee</td>\n",
       "      <td>Building walls</td>\n",
       "      <td>Comfort class</td>\n",
       "      <td>yes</td>\n",
       "      <td>NaN</td>\n",
       "      <td>NaN</td>\n",
       "      <td>yes</td>\n",
       "      <td>street</td>\n",
       "      <td>yes</td>\n",
       "      <td>euro</td>\n",
       "      <td>NaN</td>\n",
       "      <td>NaN</td>\n",
       "      <td>NaN</td>\n",
       "      <td>NaN</td>\n",
       "      <td>NaN</td>\n",
       "      <td>NaN</td>\n",
       "      <td>NaN</td>\n",
       "      <td>NaN</td>\n",
       "      <td>NaN</td>\n",
       "      <td>NaN</td>\n",
       "      <td>NaN</td>\n",
       "      <td>NaN</td>\n",
       "      <td>NaN</td>\n",
       "      <td>NaN</td>\n",
       "      <td>NaN</td>\n",
       "      <td>NaN</td>\n",
       "      <td>13404</td>\n",
       "    </tr>\n",
       "    <tr>\n",
       "      <th>17206</th>\n",
       "      <td>17206</td>\n",
       "      <td>['Москва', 'Новая Москва', 'п. Сосенское', 'п....</td>\n",
       "      <td>['16 мая', '5', '(+1 за сегодня)']</td>\n",
       "      <td>['Новая Москва', 'п. Сосенское', 'п. Коммунарк...</td>\n",
       "      <td>[]</td>\n",
       "      <td>provided</td>\n",
       "      <td>Monolithic</td>\n",
       "      <td>flat</td>\n",
       "      <td>from the developer</td>\n",
       "      <td>no fee</td>\n",
       "      <td>Finish</td>\n",
       "      <td>Comfort class</td>\n",
       "      <td>yes</td>\n",
       "      <td>separate</td>\n",
       "      <td>balcony</td>\n",
       "      <td>yes</td>\n",
       "      <td>NaN</td>\n",
       "      <td>yes</td>\n",
       "      <td>NaN</td>\n",
       "      <td>NaN</td>\n",
       "      <td>NaN</td>\n",
       "      <td>NaN</td>\n",
       "      <td>NaN</td>\n",
       "      <td>NaN</td>\n",
       "      <td>NaN</td>\n",
       "      <td>NaN</td>\n",
       "      <td>NaN</td>\n",
       "      <td>NaN</td>\n",
       "      <td>NaN</td>\n",
       "      <td>NaN</td>\n",
       "      <td>NaN</td>\n",
       "      <td>NaN</td>\n",
       "      <td>NaN</td>\n",
       "      <td>NaN</td>\n",
       "      <td>NaN</td>\n",
       "      <td>17206</td>\n",
       "    </tr>\n",
       "    <tr>\n",
       "      <th>16936</th>\n",
       "      <td>16936</td>\n",
       "      <td>['Москва', 'Свиблово', 'м. Ботанический сад', ...</td>\n",
       "      <td>['13 апреля', '4', '(+1 за сегодня)', 'Обновле...</td>\n",
       "      <td>['г. Москва', 'Свиблово', 'г. Москва', 'Свибло...</td>\n",
       "      <td>[]</td>\n",
       "      <td>NaN</td>\n",
       "      <td>Monolithic</td>\n",
       "      <td>flat</td>\n",
       "      <td>new building</td>\n",
       "      <td>no fee</td>\n",
       "      <td>NaN</td>\n",
       "      <td>NaN</td>\n",
       "      <td>yes</td>\n",
       "      <td>NaN</td>\n",
       "      <td>loggia</td>\n",
       "      <td>yes</td>\n",
       "      <td>NaN</td>\n",
       "      <td>NaN</td>\n",
       "      <td>NaN</td>\n",
       "      <td>NaN</td>\n",
       "      <td>NaN</td>\n",
       "      <td>NaN</td>\n",
       "      <td>NaN</td>\n",
       "      <td>NaN</td>\n",
       "      <td>NaN</td>\n",
       "      <td>NaN</td>\n",
       "      <td>NaN</td>\n",
       "      <td>NaN</td>\n",
       "      <td>NaN</td>\n",
       "      <td>NaN</td>\n",
       "      <td>NaN</td>\n",
       "      <td>NaN</td>\n",
       "      <td>NaN</td>\n",
       "      <td>NaN</td>\n",
       "      <td>NaN</td>\n",
       "      <td>16936</td>\n",
       "    </tr>\n",
       "  </tbody>\n",
       "</table>\n",
       "</div>"
      ],
      "text/plain": [
       "       Unnamed: 0                                        breadcrumbs  \\\n",
       "13404       13404  ['Москва', 'Люблино', 'м. Братиславская', 'МЦК...   \n",
       "17206       17206  ['Москва', 'Новая Москва', 'п. Сосенское', 'п....   \n",
       "16936       16936  ['Москва', 'Свиблово', 'м. Ботанический сад', ...   \n",
       "\n",
       "                                                    date  \\\n",
       "13404  ['24 ноября 2018', '25', '(+2 за сегодня)', 'О...   \n",
       "17206                 ['16 мая', '5', '(+1 за сегодня)']   \n",
       "16936  ['13 апреля', '4', '(+1 за сегодня)', 'Обновле...   \n",
       "\n",
       "                                               geo_block owner Security:  \\\n",
       "13404   ['г. Москва', 'Люблино', 'г. Москва', 'Люблино']    []       NaN   \n",
       "17206  ['Новая Москва', 'п. Сосенское', 'п. Коммунарк...    []  provided   \n",
       "16936  ['г. Москва', 'Свиблово', 'г. Москва', 'Свибло...    []       NaN   \n",
       "\n",
       "      Building type: Object type:            Ad type: Commission agent:  \\\n",
       "13404          Panel         flat        new building            no fee   \n",
       "17206     Monolithic         flat  from the developer            no fee   \n",
       "16936     Monolithic         flat        new building            no fee   \n",
       "\n",
       "      Construction phase: Housing class: Elevator: Bathroom type:  \\\n",
       "13404      Building walls  Comfort class       yes            NaN   \n",
       "17206              Finish  Comfort class       yes       separate   \n",
       "16936                 NaN            NaN       yes            NaN   \n",
       "\n",
       "      Balcony type: Mortgage possible: The view from the window:  \\\n",
       "13404           NaN                yes                    street   \n",
       "17206       balcony                yes                       NaN   \n",
       "16936        loggia                yes                       NaN   \n",
       "\n",
       "      Garbage chute: Repair: Fridge: Phone: Furniture: Free layout:  \\\n",
       "13404            yes    euro     NaN    NaN        NaN          NaN   \n",
       "17206            yes     NaN     NaN    NaN        NaN          NaN   \n",
       "16936            NaN     NaN     NaN    NaN        NaN          NaN   \n",
       "\n",
       "      It is possible to bargain: Floor covering: Room type: Internet:  \\\n",
       "13404                        NaN             NaN        NaN       NaN   \n",
       "17206                        NaN             NaN        NaN       NaN   \n",
       "16936                        NaN             NaN        NaN       NaN   \n",
       "\n",
       "      Kitchen furniture:  TV: Washing machine: Foundation type: Overlap type:  \\\n",
       "13404                NaN  NaN              NaN              NaN           NaN   \n",
       "17206                NaN  NaN              NaN              NaN           NaN   \n",
       "16936                NaN  NaN              NaN              NaN           NaN   \n",
       "\n",
       "      Type of the building: Playground: Class:     id  \n",
       "13404                   NaN         NaN    NaN  13404  \n",
       "17206                   NaN         NaN    NaN  17206  \n",
       "16936                   NaN         NaN    NaN  16936  "
      ]
     },
     "execution_count": 5,
     "metadata": {},
     "output_type": "execute_result"
    }
   ],
   "source": [
    "df_test.sample(3)"
   ]
  },
  {
   "cell_type": "code",
   "execution_count": 6,
   "metadata": {},
   "outputs": [
    {
     "data": {
      "text/plain": [
       "((22667, 36), (45694, 36))"
      ]
     },
     "execution_count": 6,
     "metadata": {},
     "output_type": "execute_result"
    }
   ],
   "source": [
    "df_test.shape, df_train.shape"
   ]
  },
  {
   "cell_type": "code",
   "execution_count": 7,
   "metadata": {},
   "outputs": [],
   "source": [
    "columns_=list(df_train.columns)"
   ]
  },
  {
   "cell_type": "markdown",
   "metadata": {},
   "source": [
    "as mostly there are some text columns lets factorize them to get something for X"
   ]
  },
  {
   "cell_type": "code",
   "execution_count": 8,
   "metadata": {},
   "outputs": [],
   "source": [
    "df = pd.read_csv(\n",
    "    \"./moskwa/train_property.csv\"\n",
    ")"
   ]
  },
  {
   "cell_type": "code",
   "execution_count": 9,
   "metadata": {},
   "outputs": [
    {
     "name": "stderr",
     "output_type": "stream",
     "text": [
      "100%|██████████| 31/31 [00:00<00:00, 48.98it/s]\n"
     ]
    }
   ],
   "source": [
    "cat_feats = [x for x in df.columns if \":\" in x]\n",
    "for feat in tqdm(cat_feats):\n",
    "    df[\"{}_cat\".format(feat)] = df[feat].factorize()[0]"
   ]
  },
  {
   "cell_type": "code",
   "execution_count": 10,
   "metadata": {},
   "outputs": [
    {
     "data": {
      "text/plain": [
       "(45694, 67)"
      ]
     },
     "execution_count": 10,
     "metadata": {},
     "output_type": "execute_result"
    }
   ],
   "source": [
    "df.shape"
   ]
  },
  {
   "cell_type": "code",
   "execution_count": 11,
   "metadata": {},
   "outputs": [
    {
     "data": {
      "text/html": [
       "<div>\n",
       "<style scoped>\n",
       "    .dataframe tbody tr th:only-of-type {\n",
       "        vertical-align: middle;\n",
       "    }\n",
       "\n",
       "    .dataframe tbody tr th {\n",
       "        vertical-align: top;\n",
       "    }\n",
       "\n",
       "    .dataframe thead th {\n",
       "        text-align: right;\n",
       "    }\n",
       "</style>\n",
       "<table border=\"1\" class=\"dataframe\">\n",
       "  <thead>\n",
       "    <tr style=\"text-align: right;\">\n",
       "      <th></th>\n",
       "      <th>Unnamed: 0</th>\n",
       "      <th>price</th>\n",
       "      <th>Unnamed: 0_cat</th>\n",
       "      <th>Security:_cat</th>\n",
       "      <th>Building type:_cat</th>\n",
       "      <th>Object type:_cat</th>\n",
       "      <th>Ad type:_cat</th>\n",
       "      <th>Commission agent:_cat</th>\n",
       "      <th>Construction phase:_cat</th>\n",
       "      <th>Housing class:_cat</th>\n",
       "      <th>Elevator:_cat</th>\n",
       "      <th>Bathroom type:_cat</th>\n",
       "      <th>Balcony type:_cat</th>\n",
       "      <th>Mortgage possible:_cat</th>\n",
       "      <th>The view from the window:_cat</th>\n",
       "      <th>Garbage chute:_cat</th>\n",
       "      <th>Repair:_cat</th>\n",
       "      <th>Fridge:_cat</th>\n",
       "      <th>Phone:_cat</th>\n",
       "      <th>Furniture:_cat</th>\n",
       "      <th>Free layout:_cat</th>\n",
       "      <th>It is possible to bargain:_cat</th>\n",
       "      <th>Floor covering:_cat</th>\n",
       "      <th>Room type:_cat</th>\n",
       "      <th>Internet:_cat</th>\n",
       "      <th>Kitchen furniture:_cat</th>\n",
       "      <th>TV:_cat</th>\n",
       "      <th>Washing machine:_cat</th>\n",
       "      <th>Foundation type:_cat</th>\n",
       "      <th>Overlap type:_cat</th>\n",
       "      <th>Type of the building:_cat</th>\n",
       "      <th>Playground:_cat</th>\n",
       "      <th>Class:_cat</th>\n",
       "    </tr>\n",
       "  </thead>\n",
       "  <tbody>\n",
       "    <tr>\n",
       "      <th>count</th>\n",
       "      <td>45694.000000</td>\n",
       "      <td>45694.000000</td>\n",
       "      <td>45694.000000</td>\n",
       "      <td>45694.000000</td>\n",
       "      <td>45694.000000</td>\n",
       "      <td>45694.000000</td>\n",
       "      <td>45694.000000</td>\n",
       "      <td>45694.000000</td>\n",
       "      <td>45694.000000</td>\n",
       "      <td>45694.000000</td>\n",
       "      <td>45694.000000</td>\n",
       "      <td>45694.000000</td>\n",
       "      <td>45694.000000</td>\n",
       "      <td>45694.000000</td>\n",
       "      <td>45694.000000</td>\n",
       "      <td>45694.000000</td>\n",
       "      <td>45694.000000</td>\n",
       "      <td>45694.000000</td>\n",
       "      <td>45694.000000</td>\n",
       "      <td>45694.000000</td>\n",
       "      <td>45694.000000</td>\n",
       "      <td>45694.000000</td>\n",
       "      <td>45694.000000</td>\n",
       "      <td>45694.000000</td>\n",
       "      <td>45694.000000</td>\n",
       "      <td>45694.000000</td>\n",
       "      <td>45694.000000</td>\n",
       "      <td>45694.000000</td>\n",
       "      <td>45694.000000</td>\n",
       "      <td>45694.000000</td>\n",
       "      <td>45694.000000</td>\n",
       "      <td>45694.000000</td>\n",
       "      <td>45694.000000</td>\n",
       "    </tr>\n",
       "    <tr>\n",
       "      <th>mean</th>\n",
       "      <td>22846.500000</td>\n",
       "      <td>17.422577</td>\n",
       "      <td>22846.500000</td>\n",
       "      <td>2.638727</td>\n",
       "      <td>1.992778</td>\n",
       "      <td>0.493785</td>\n",
       "      <td>0.769204</td>\n",
       "      <td>-0.007069</td>\n",
       "      <td>1.090953</td>\n",
       "      <td>0.846873</td>\n",
       "      <td>-0.413030</td>\n",
       "      <td>-0.550794</td>\n",
       "      <td>-0.626253</td>\n",
       "      <td>-0.581980</td>\n",
       "      <td>-0.513656</td>\n",
       "      <td>-0.577297</td>\n",
       "      <td>-0.846457</td>\n",
       "      <td>-0.992909</td>\n",
       "      <td>-0.985118</td>\n",
       "      <td>-0.992866</td>\n",
       "      <td>-0.980938</td>\n",
       "      <td>-0.993260</td>\n",
       "      <td>-0.982689</td>\n",
       "      <td>-0.981748</td>\n",
       "      <td>-0.981639</td>\n",
       "      <td>-0.995273</td>\n",
       "      <td>-0.996608</td>\n",
       "      <td>-0.998008</td>\n",
       "      <td>-0.986935</td>\n",
       "      <td>-0.991946</td>\n",
       "      <td>-0.992100</td>\n",
       "      <td>-0.995711</td>\n",
       "      <td>-0.998249</td>\n",
       "    </tr>\n",
       "    <tr>\n",
       "      <th>std</th>\n",
       "      <td>13190.865937</td>\n",
       "      <td>38.332439</td>\n",
       "      <td>13190.865937</td>\n",
       "      <td>7.170444</td>\n",
       "      <td>0.686521</td>\n",
       "      <td>0.565491</td>\n",
       "      <td>0.693000</td>\n",
       "      <td>0.083779</td>\n",
       "      <td>1.612602</td>\n",
       "      <td>1.139299</td>\n",
       "      <td>0.492384</td>\n",
       "      <td>0.839044</td>\n",
       "      <td>0.736021</td>\n",
       "      <td>0.493239</td>\n",
       "      <td>0.759319</td>\n",
       "      <td>0.493994</td>\n",
       "      <td>0.455172</td>\n",
       "      <td>0.083908</td>\n",
       "      <td>0.121080</td>\n",
       "      <td>0.084165</td>\n",
       "      <td>0.136743</td>\n",
       "      <td>0.081824</td>\n",
       "      <td>0.175871</td>\n",
       "      <td>0.161432</td>\n",
       "      <td>0.134255</td>\n",
       "      <td>0.068592</td>\n",
       "      <td>0.058144</td>\n",
       "      <td>0.044582</td>\n",
       "      <td>0.200081</td>\n",
       "      <td>0.094845</td>\n",
       "      <td>0.090247</td>\n",
       "      <td>0.065354</td>\n",
       "      <td>0.041806</td>\n",
       "    </tr>\n",
       "    <tr>\n",
       "      <th>min</th>\n",
       "      <td>0.000000</td>\n",
       "      <td>0.820018</td>\n",
       "      <td>0.000000</td>\n",
       "      <td>-1.000000</td>\n",
       "      <td>-1.000000</td>\n",
       "      <td>-1.000000</td>\n",
       "      <td>-1.000000</td>\n",
       "      <td>-1.000000</td>\n",
       "      <td>-1.000000</td>\n",
       "      <td>-1.000000</td>\n",
       "      <td>-1.000000</td>\n",
       "      <td>-1.000000</td>\n",
       "      <td>-1.000000</td>\n",
       "      <td>-1.000000</td>\n",
       "      <td>-1.000000</td>\n",
       "      <td>-1.000000</td>\n",
       "      <td>-1.000000</td>\n",
       "      <td>-1.000000</td>\n",
       "      <td>-1.000000</td>\n",
       "      <td>-1.000000</td>\n",
       "      <td>-1.000000</td>\n",
       "      <td>-1.000000</td>\n",
       "      <td>-1.000000</td>\n",
       "      <td>-1.000000</td>\n",
       "      <td>-1.000000</td>\n",
       "      <td>-1.000000</td>\n",
       "      <td>-1.000000</td>\n",
       "      <td>-1.000000</td>\n",
       "      <td>-1.000000</td>\n",
       "      <td>-1.000000</td>\n",
       "      <td>-1.000000</td>\n",
       "      <td>-1.000000</td>\n",
       "      <td>-1.000000</td>\n",
       "    </tr>\n",
       "    <tr>\n",
       "      <th>25%</th>\n",
       "      <td>11423.250000</td>\n",
       "      <td>7.173917</td>\n",
       "      <td>11423.250000</td>\n",
       "      <td>-1.000000</td>\n",
       "      <td>2.000000</td>\n",
       "      <td>0.000000</td>\n",
       "      <td>0.000000</td>\n",
       "      <td>0.000000</td>\n",
       "      <td>0.000000</td>\n",
       "      <td>0.000000</td>\n",
       "      <td>-1.000000</td>\n",
       "      <td>-1.000000</td>\n",
       "      <td>-1.000000</td>\n",
       "      <td>-1.000000</td>\n",
       "      <td>-1.000000</td>\n",
       "      <td>-1.000000</td>\n",
       "      <td>-1.000000</td>\n",
       "      <td>-1.000000</td>\n",
       "      <td>-1.000000</td>\n",
       "      <td>-1.000000</td>\n",
       "      <td>-1.000000</td>\n",
       "      <td>-1.000000</td>\n",
       "      <td>-1.000000</td>\n",
       "      <td>-1.000000</td>\n",
       "      <td>-1.000000</td>\n",
       "      <td>-1.000000</td>\n",
       "      <td>-1.000000</td>\n",
       "      <td>-1.000000</td>\n",
       "      <td>-1.000000</td>\n",
       "      <td>-1.000000</td>\n",
       "      <td>-1.000000</td>\n",
       "      <td>-1.000000</td>\n",
       "      <td>-1.000000</td>\n",
       "    </tr>\n",
       "    <tr>\n",
       "      <th>50%</th>\n",
       "      <td>22846.500000</td>\n",
       "      <td>9.910000</td>\n",
       "      <td>22846.500000</td>\n",
       "      <td>2.000000</td>\n",
       "      <td>2.000000</td>\n",
       "      <td>0.000000</td>\n",
       "      <td>1.000000</td>\n",
       "      <td>0.000000</td>\n",
       "      <td>1.000000</td>\n",
       "      <td>1.000000</td>\n",
       "      <td>0.000000</td>\n",
       "      <td>-1.000000</td>\n",
       "      <td>-1.000000</td>\n",
       "      <td>-1.000000</td>\n",
       "      <td>-1.000000</td>\n",
       "      <td>-1.000000</td>\n",
       "      <td>-1.000000</td>\n",
       "      <td>-1.000000</td>\n",
       "      <td>-1.000000</td>\n",
       "      <td>-1.000000</td>\n",
       "      <td>-1.000000</td>\n",
       "      <td>-1.000000</td>\n",
       "      <td>-1.000000</td>\n",
       "      <td>-1.000000</td>\n",
       "      <td>-1.000000</td>\n",
       "      <td>-1.000000</td>\n",
       "      <td>-1.000000</td>\n",
       "      <td>-1.000000</td>\n",
       "      <td>-1.000000</td>\n",
       "      <td>-1.000000</td>\n",
       "      <td>-1.000000</td>\n",
       "      <td>-1.000000</td>\n",
       "      <td>-1.000000</td>\n",
       "    </tr>\n",
       "    <tr>\n",
       "      <th>75%</th>\n",
       "      <td>34269.750000</td>\n",
       "      <td>15.405717</td>\n",
       "      <td>34269.750000</td>\n",
       "      <td>2.000000</td>\n",
       "      <td>2.000000</td>\n",
       "      <td>1.000000</td>\n",
       "      <td>1.000000</td>\n",
       "      <td>0.000000</td>\n",
       "      <td>2.000000</td>\n",
       "      <td>2.000000</td>\n",
       "      <td>0.000000</td>\n",
       "      <td>0.000000</td>\n",
       "      <td>-1.000000</td>\n",
       "      <td>0.000000</td>\n",
       "      <td>0.000000</td>\n",
       "      <td>0.000000</td>\n",
       "      <td>-1.000000</td>\n",
       "      <td>-1.000000</td>\n",
       "      <td>-1.000000</td>\n",
       "      <td>-1.000000</td>\n",
       "      <td>-1.000000</td>\n",
       "      <td>-1.000000</td>\n",
       "      <td>-1.000000</td>\n",
       "      <td>-1.000000</td>\n",
       "      <td>-1.000000</td>\n",
       "      <td>-1.000000</td>\n",
       "      <td>-1.000000</td>\n",
       "      <td>-1.000000</td>\n",
       "      <td>-1.000000</td>\n",
       "      <td>-1.000000</td>\n",
       "      <td>-1.000000</td>\n",
       "      <td>-1.000000</td>\n",
       "      <td>-1.000000</td>\n",
       "    </tr>\n",
       "    <tr>\n",
       "      <th>max</th>\n",
       "      <td>45693.000000</td>\n",
       "      <td>3000.000015</td>\n",
       "      <td>45693.000000</td>\n",
       "      <td>108.000000</td>\n",
       "      <td>8.000000</td>\n",
       "      <td>3.000000</td>\n",
       "      <td>2.000000</td>\n",
       "      <td>0.000000</td>\n",
       "      <td>6.000000</td>\n",
       "      <td>3.000000</td>\n",
       "      <td>0.000000</td>\n",
       "      <td>2.000000</td>\n",
       "      <td>4.000000</td>\n",
       "      <td>0.000000</td>\n",
       "      <td>1.000000</td>\n",
       "      <td>0.000000</td>\n",
       "      <td>5.000000</td>\n",
       "      <td>0.000000</td>\n",
       "      <td>0.000000</td>\n",
       "      <td>0.000000</td>\n",
       "      <td>0.000000</td>\n",
       "      <td>0.000000</td>\n",
       "      <td>3.000000</td>\n",
       "      <td>2.000000</td>\n",
       "      <td>0.000000</td>\n",
       "      <td>0.000000</td>\n",
       "      <td>0.000000</td>\n",
       "      <td>0.000000</td>\n",
       "      <td>5.000000</td>\n",
       "      <td>3.000000</td>\n",
       "      <td>1.000000</td>\n",
       "      <td>0.000000</td>\n",
       "      <td>0.000000</td>\n",
       "    </tr>\n",
       "  </tbody>\n",
       "</table>\n",
       "</div>"
      ],
      "text/plain": [
       "         Unnamed: 0         price  Unnamed: 0_cat  Security:_cat  \\\n",
       "count  45694.000000  45694.000000    45694.000000   45694.000000   \n",
       "mean   22846.500000     17.422577    22846.500000       2.638727   \n",
       "std    13190.865937     38.332439    13190.865937       7.170444   \n",
       "min        0.000000      0.820018        0.000000      -1.000000   \n",
       "25%    11423.250000      7.173917    11423.250000      -1.000000   \n",
       "50%    22846.500000      9.910000    22846.500000       2.000000   \n",
       "75%    34269.750000     15.405717    34269.750000       2.000000   \n",
       "max    45693.000000   3000.000015    45693.000000     108.000000   \n",
       "\n",
       "       Building type:_cat  Object type:_cat  Ad type:_cat  \\\n",
       "count        45694.000000      45694.000000  45694.000000   \n",
       "mean             1.992778          0.493785      0.769204   \n",
       "std              0.686521          0.565491      0.693000   \n",
       "min             -1.000000         -1.000000     -1.000000   \n",
       "25%              2.000000          0.000000      0.000000   \n",
       "50%              2.000000          0.000000      1.000000   \n",
       "75%              2.000000          1.000000      1.000000   \n",
       "max              8.000000          3.000000      2.000000   \n",
       "\n",
       "       Commission agent:_cat  Construction phase:_cat  Housing class:_cat  \\\n",
       "count           45694.000000             45694.000000        45694.000000   \n",
       "mean               -0.007069                 1.090953            0.846873   \n",
       "std                 0.083779                 1.612602            1.139299   \n",
       "min                -1.000000                -1.000000           -1.000000   \n",
       "25%                 0.000000                 0.000000            0.000000   \n",
       "50%                 0.000000                 1.000000            1.000000   \n",
       "75%                 0.000000                 2.000000            2.000000   \n",
       "max                 0.000000                 6.000000            3.000000   \n",
       "\n",
       "       Elevator:_cat  Bathroom type:_cat  Balcony type:_cat  \\\n",
       "count   45694.000000        45694.000000       45694.000000   \n",
       "mean       -0.413030           -0.550794          -0.626253   \n",
       "std         0.492384            0.839044           0.736021   \n",
       "min        -1.000000           -1.000000          -1.000000   \n",
       "25%        -1.000000           -1.000000          -1.000000   \n",
       "50%         0.000000           -1.000000          -1.000000   \n",
       "75%         0.000000            0.000000          -1.000000   \n",
       "max         0.000000            2.000000           4.000000   \n",
       "\n",
       "       Mortgage possible:_cat  The view from the window:_cat  \\\n",
       "count            45694.000000                   45694.000000   \n",
       "mean                -0.581980                      -0.513656   \n",
       "std                  0.493239                       0.759319   \n",
       "min                 -1.000000                      -1.000000   \n",
       "25%                 -1.000000                      -1.000000   \n",
       "50%                 -1.000000                      -1.000000   \n",
       "75%                  0.000000                       0.000000   \n",
       "max                  0.000000                       1.000000   \n",
       "\n",
       "       Garbage chute:_cat   Repair:_cat   Fridge:_cat    Phone:_cat  \\\n",
       "count        45694.000000  45694.000000  45694.000000  45694.000000   \n",
       "mean            -0.577297     -0.846457     -0.992909     -0.985118   \n",
       "std              0.493994      0.455172      0.083908      0.121080   \n",
       "min             -1.000000     -1.000000     -1.000000     -1.000000   \n",
       "25%             -1.000000     -1.000000     -1.000000     -1.000000   \n",
       "50%             -1.000000     -1.000000     -1.000000     -1.000000   \n",
       "75%              0.000000     -1.000000     -1.000000     -1.000000   \n",
       "max              0.000000      5.000000      0.000000      0.000000   \n",
       "\n",
       "       Furniture:_cat  Free layout:_cat  It is possible to bargain:_cat  \\\n",
       "count    45694.000000      45694.000000                    45694.000000   \n",
       "mean        -0.992866         -0.980938                       -0.993260   \n",
       "std          0.084165          0.136743                        0.081824   \n",
       "min         -1.000000         -1.000000                       -1.000000   \n",
       "25%         -1.000000         -1.000000                       -1.000000   \n",
       "50%         -1.000000         -1.000000                       -1.000000   \n",
       "75%         -1.000000         -1.000000                       -1.000000   \n",
       "max          0.000000          0.000000                        0.000000   \n",
       "\n",
       "       Floor covering:_cat  Room type:_cat  Internet:_cat  \\\n",
       "count         45694.000000    45694.000000   45694.000000   \n",
       "mean             -0.982689       -0.981748      -0.981639   \n",
       "std               0.175871        0.161432       0.134255   \n",
       "min              -1.000000       -1.000000      -1.000000   \n",
       "25%              -1.000000       -1.000000      -1.000000   \n",
       "50%              -1.000000       -1.000000      -1.000000   \n",
       "75%              -1.000000       -1.000000      -1.000000   \n",
       "max               3.000000        2.000000       0.000000   \n",
       "\n",
       "       Kitchen furniture:_cat       TV:_cat  Washing machine:_cat  \\\n",
       "count            45694.000000  45694.000000          45694.000000   \n",
       "mean                -0.995273     -0.996608             -0.998008   \n",
       "std                  0.068592      0.058144              0.044582   \n",
       "min                 -1.000000     -1.000000             -1.000000   \n",
       "25%                 -1.000000     -1.000000             -1.000000   \n",
       "50%                 -1.000000     -1.000000             -1.000000   \n",
       "75%                 -1.000000     -1.000000             -1.000000   \n",
       "max                  0.000000      0.000000              0.000000   \n",
       "\n",
       "       Foundation type:_cat  Overlap type:_cat  Type of the building:_cat  \\\n",
       "count          45694.000000       45694.000000               45694.000000   \n",
       "mean              -0.986935          -0.991946                  -0.992100   \n",
       "std                0.200081           0.094845                   0.090247   \n",
       "min               -1.000000          -1.000000                  -1.000000   \n",
       "25%               -1.000000          -1.000000                  -1.000000   \n",
       "50%               -1.000000          -1.000000                  -1.000000   \n",
       "75%               -1.000000          -1.000000                  -1.000000   \n",
       "max                5.000000           3.000000                   1.000000   \n",
       "\n",
       "       Playground:_cat    Class:_cat  \n",
       "count     45694.000000  45694.000000  \n",
       "mean         -0.995711     -0.998249  \n",
       "std           0.065354      0.041806  \n",
       "min          -1.000000     -1.000000  \n",
       "25%          -1.000000     -1.000000  \n",
       "50%          -1.000000     -1.000000  \n",
       "75%          -1.000000     -1.000000  \n",
       "max           0.000000      0.000000  "
      ]
     },
     "execution_count": 11,
     "metadata": {},
     "output_type": "execute_result"
    }
   ],
   "source": [
    "df.describe()"
   ]
  },
  {
   "cell_type": "code",
   "execution_count": 12,
   "metadata": {},
   "outputs": [],
   "source": [
    "num_feats = [x for x in df.columns if \"_cat\" in x]"
   ]
  },
  {
   "cell_type": "code",
   "execution_count": 13,
   "metadata": {},
   "outputs": [],
   "source": [
    "X_train, X_test, y_train, y_test = train_test_split(\n",
    "    df[num_feats], df[\"price\"], test_size=0.25\n",
    ")"
   ]
  },
  {
   "cell_type": "code",
   "execution_count": 14,
   "metadata": {},
   "outputs": [
    {
     "data": {
      "text/plain": [
       "(34270, 31)"
      ]
     },
     "execution_count": 14,
     "metadata": {},
     "output_type": "execute_result"
    }
   ],
   "source": [
    "X_train.shape"
   ]
  },
  {
   "cell_type": "code",
   "execution_count": 15,
   "metadata": {},
   "outputs": [
    {
     "data": {
      "text/plain": [
       "((34270, 31), (11424, 31), (34270,), (11424,))"
      ]
     },
     "execution_count": 15,
     "metadata": {},
     "output_type": "execute_result"
    }
   ],
   "source": [
    "X_train.shape, X_test.shape, y_train.shape, y_test.shape"
   ]
  },
  {
   "cell_type": "markdown",
   "metadata": {},
   "source": [
    "Lets see what automl presents us without even using log of price"
   ]
  },
  {
   "cell_type": "markdown",
   "metadata": {},
   "source": [
    "## 3. Generating first results with default setup of AutoML"
   ]
  },
  {
   "cell_type": "code",
   "execution_count": 39,
   "metadata": {},
   "outputs": [
    {
     "name": "stdout",
     "output_type": "stream",
     "text": [
      "Linear algorithm was disabled.\n",
      "AutoML directory: AutoML_1\n",
      "The task is regression with evaluation metric rmse\n",
      "AutoML will use algorithms: ['Baseline', 'Decision Tree', 'Random Forest', 'Xgboost', 'Neural Network']\n",
      "AutoML will ensemble availabe models\n",
      "AutoML steps: ['simple_algorithms', 'default_algorithms', 'ensemble']\n",
      "* Step simple_algorithms will try to check up to 2 models\n",
      "1_Baseline rmse 36.241518 trained in 1.26 seconds\n",
      "2_DecisionTree rmse 31.822292 trained in 28.07 seconds\n",
      "* Step default_algorithms will try to check up to 3 models\n"
     ]
    },
    {
     "name": "stderr",
     "output_type": "stream",
     "text": [
      "ntree_limit is deprecated, use `iteration_range` or model slicing instead.\n",
      "ntree_limit is deprecated, use `iteration_range` or model slicing instead.\n"
     ]
    },
    {
     "name": "stdout",
     "output_type": "stream",
     "text": [
      "3_Default_Xgboost rmse 26.313265 trained in 16.53 seconds\n",
      "4_Default_NeuralNetwork rmse 28.971193 trained in 6.72 seconds\n",
      "5_Default_RandomForest rmse 29.087302 trained in 27.68 seconds\n",
      "* Step ensemble will try to check up to 1 model\n",
      "Ensemble rmse 26.313265 trained in 0.63 seconds\n"
     ]
    },
    {
     "name": "stderr",
     "output_type": "stream",
     "text": [
      "An input array is constant; the correlation coefficent is not defined.\n"
     ]
    },
    {
     "name": "stdout",
     "output_type": "stream",
     "text": [
      "AutoML fit time: 126.71 seconds\n",
      "AutoML best model: 3_Default_Xgboost\n"
     ]
    },
    {
     "name": "stderr",
     "output_type": "stream",
     "text": [
      "ntree_limit is deprecated, use `iteration_range` or model slicing instead.\n"
     ]
    }
   ],
   "source": [
    "# automl = AutoML()\n",
    "automl = AutoML(mode=\"Explain\")\n",
    "automl.fit(X_train, y_train)\n",
    "\n",
    "predictions = automl.predict(X_test)"
   ]
  },
  {
   "cell_type": "markdown",
   "metadata": {},
   "source": [
    "---\n",
    "\n",
    "### Package took default metric  rmse , and generated excelent package with results with starting README/leaderboard under address as below\n",
    "http://localhost:8888/lab/tree/MLJAR/AutoML_1/README.md\n",
    "\n"
   ]
  },
  {
   "cell_type": "raw",
   "metadata": {},
   "source": []
  },
  {
   "cell_type": "markdown",
   "metadata": {},
   "source": [
    "# AutoML Leaderboard\n",
    "\n",
    "| Best model   | name                                                         | model_type     | metric_type   |   metric_value |   train_time |\n",
    "|:-------------|:-------------------------------------------------------------|:---------------|:--------------|---------------:|-------------:|\n",
    "|              | [1_Baseline](1_Baseline/README.md)                           | Baseline       | rmse          |        36.2415 |         2.01 |\n",
    "|              | [2_DecisionTree](2_DecisionTree/README.md)                   | Decision Tree  | rmse          |        31.8223 |        29.27 |\n",
    "| **the best** | [3_Default_Xgboost](3_Default_Xgboost/README.md)             | Xgboost        | rmse          |        26.3133 |        17.71 |\n",
    "|              | [4_Default_NeuralNetwork](4_Default_NeuralNetwork/README.md) | Neural Network | rmse          |        28.9712 |         7.47 |\n",
    "|              | [5_Default_RandomForest](5_Default_RandomForest/README.md)   | Random Forest  | rmse          |        29.0873 |        29.27 |\n",
    "|              | [Ensemble](Ensemble/README.md)                               | Ensemble       | rmse          |        26.3133 |         0.63 |\n",
    "\n",
    "### AutoML Performance\n",
    "![AutoML Performance](ldb_performance.png)\n",
    "\n",
    "### AutoML Performance Boxplot\n",
    "![AutoML Performance Boxplot](ldb_performance_boxplot.png)\n",
    "\n",
    "### Features Importance\n",
    "![features importance across models](features_heatmap.png)\n",
    "\n",
    "\n",
    "\n",
    "### Spearman Correlation of Models\n",
    "![models spearman correlation](correlation_heatmap.png)"
   ]
  },
  {
   "cell_type": "markdown",
   "metadata": {},
   "source": [
    "---\n",
    "\n",
    "* there is need to change metric to mae and look at the data what is inside distribution etc especially that we ar etalkign about prices"
   ]
  },
  {
   "cell_type": "markdown",
   "metadata": {},
   "source": [
    "## 4. Closer look at the data distribution etc"
   ]
  },
  {
   "cell_type": "code",
   "execution_count": 16,
   "metadata": {},
   "outputs": [
    {
     "data": {
      "text/html": [
       "<div>\n",
       "<style scoped>\n",
       "    .dataframe tbody tr th:only-of-type {\n",
       "        vertical-align: middle;\n",
       "    }\n",
       "\n",
       "    .dataframe tbody tr th {\n",
       "        vertical-align: top;\n",
       "    }\n",
       "\n",
       "    .dataframe thead th {\n",
       "        text-align: right;\n",
       "    }\n",
       "</style>\n",
       "<table border=\"1\" class=\"dataframe\">\n",
       "  <thead>\n",
       "    <tr style=\"text-align: right;\">\n",
       "      <th></th>\n",
       "      <th>Unnamed: 0</th>\n",
       "      <th>price</th>\n",
       "    </tr>\n",
       "  </thead>\n",
       "  <tbody>\n",
       "    <tr>\n",
       "      <th>count</th>\n",
       "      <td>45694.000000</td>\n",
       "      <td>45694.000000</td>\n",
       "    </tr>\n",
       "    <tr>\n",
       "      <th>mean</th>\n",
       "      <td>22846.500000</td>\n",
       "      <td>17.422577</td>\n",
       "    </tr>\n",
       "    <tr>\n",
       "      <th>std</th>\n",
       "      <td>13190.865937</td>\n",
       "      <td>38.332439</td>\n",
       "    </tr>\n",
       "    <tr>\n",
       "      <th>min</th>\n",
       "      <td>0.000000</td>\n",
       "      <td>0.820018</td>\n",
       "    </tr>\n",
       "    <tr>\n",
       "      <th>25%</th>\n",
       "      <td>11423.250000</td>\n",
       "      <td>7.173917</td>\n",
       "    </tr>\n",
       "    <tr>\n",
       "      <th>50%</th>\n",
       "      <td>22846.500000</td>\n",
       "      <td>9.910000</td>\n",
       "    </tr>\n",
       "    <tr>\n",
       "      <th>75%</th>\n",
       "      <td>34269.750000</td>\n",
       "      <td>15.405717</td>\n",
       "    </tr>\n",
       "    <tr>\n",
       "      <th>max</th>\n",
       "      <td>45693.000000</td>\n",
       "      <td>3000.000015</td>\n",
       "    </tr>\n",
       "  </tbody>\n",
       "</table>\n",
       "</div>"
      ],
      "text/plain": [
       "         Unnamed: 0         price\n",
       "count  45694.000000  45694.000000\n",
       "mean   22846.500000     17.422577\n",
       "std    13190.865937     38.332439\n",
       "min        0.000000      0.820018\n",
       "25%    11423.250000      7.173917\n",
       "50%    22846.500000      9.910000\n",
       "75%    34269.750000     15.405717\n",
       "max    45693.000000   3000.000015"
      ]
     },
     "execution_count": 16,
     "metadata": {},
     "output_type": "execute_result"
    }
   ],
   "source": [
    "df_train.describe()"
   ]
  },
  {
   "cell_type": "markdown",
   "metadata": {},
   "source": [
    "so mean price is 17 but std deviation is 38 which suggest there is a big tail which needs to be reduced removed done something with that as that makes whole calculation not so reliable"
   ]
  },
  {
   "cell_type": "code",
   "execution_count": 17,
   "metadata": {},
   "outputs": [
    {
     "data": {
      "image/png": "[encoded data removed]",
      "text/plain": [
       "<Figure size 432x288 with 1 Axes>"
      ]
     },
     "metadata": {
      "needs_background": "light"
     },
     "output_type": "display_data"
    }
   ],
   "source": [
    "df_train['price'].plot();"
   ]
  },
  {
   "cell_type": "code",
   "execution_count": 18,
   "metadata": {},
   "outputs": [
    {
     "data": {
      "image/png": "[encoded data removed]",
      "text/plain": [
       "<Figure size 432x288 with 1 Axes>"
      ]
     },
     "metadata": {
      "needs_background": "light"
     },
     "output_type": "display_data"
    }
   ],
   "source": [
    "df_train['price'].hist();"
   ]
  },
  {
   "cell_type": "code",
   "execution_count": 19,
   "metadata": {},
   "outputs": [
    {
     "data": {
      "image/png": "[encoded data removed]",
      "text/plain": [
       "<Figure size 432x288 with 1 Axes>"
      ]
     },
     "metadata": {
      "needs_background": "light"
     },
     "output_type": "display_data"
    }
   ],
   "source": [
    "df_train['price'].hist(bins=300);"
   ]
  },
  {
   "cell_type": "code",
   "execution_count": 20,
   "metadata": {},
   "outputs": [
    {
     "data": {
      "image/png": "[encoded data removed]",
      "text/plain": [
       "<Figure size 432x288 with 1 Axes>"
      ]
     },
     "metadata": {
      "needs_background": "light"
     },
     "output_type": "display_data"
    }
   ],
   "source": [
    "np.log10(df_train['price']).hist(bins=300);"
   ]
  },
  {
   "cell_type": "markdown",
   "metadata": {},
   "source": [
    "most likelly going into log domain give much better results also checking how to choose mae metric "
   ]
  },
  {
   "cell_type": "code",
   "execution_count": 27,
   "metadata": {},
   "outputs": [
    {
     "data": {
      "text/plain": [
       "mappingproxy({'__module__': 'supervised.automl',\n",
       "              '__doc__': '\\n    Automated Machine Learning for supervised tasks (binary classification, multiclass classification, regression).\\n    ',\n",
       "              '__init__': <function supervised.automl.AutoML.__init__(self, results_path=None, total_time_limit=3600, mode='Explain', ml_task='auto', model_time_limit=None, algorithms='auto', train_ensemble=True, stack_models='auto', eval_metric='auto', validation_strategy='auto', explain_level='auto', golden_features='auto', features_selection='auto', start_random_models='auto', hill_climbing_steps='auto', top_models_to_improve='auto', boost_on_errors='auto', kmeans_features='auto', mix_encoding='auto', max_single_prediction_time=None, optuna_time_budget=None, optuna_init_params={}, optuna_verbose=True, n_jobs=-1, verbose=1, random_state=1234)>,\n",
       "              'fit': <function supervised.automl.AutoML.fit(self, X, y, sample_weight=None, cv=None)>,\n",
       "              'predict': <function supervised.automl.AutoML.predict(self, X)>,\n",
       "              'predict_proba': <function supervised.automl.AutoML.predict_proba(self, X)>,\n",
       "              'predict_all': <function supervised.automl.AutoML.predict_all(self, X)>,\n",
       "              'score': <function supervised.automl.AutoML.score(self, X, y=None, sample_weight=None)>,\n",
       "              'report': <function supervised.automl.AutoML.report(self, width=900, height=1200)>,\n",
       "              'need_retrain': <function supervised.automl.AutoML.need_retrain(self, X, y, sample_weight=None, decrease=0.1)>,\n",
       "              '__abstractmethods__': frozenset(),\n",
       "              '_abc_impl': <_abc_data at 0x7f6e258becf0>})"
      ]
     },
     "execution_count": 27,
     "metadata": {},
     "output_type": "execute_result"
    }
   ],
   "source": [
    "AutoML.__dict__"
   ]
  },
  {
   "cell_type": "code",
   "execution_count": 21,
   "metadata": {},
   "outputs": [],
   "source": [
    "df['price_log']= np.log10(df['price']) "
   ]
  },
  {
   "cell_type": "code",
   "execution_count": 22,
   "metadata": {},
   "outputs": [],
   "source": [
    "X_train, X_test, y_train, y_test = train_test_split(\n",
    "    df[num_feats], df[\"price_log\"], test_size=0.25\n",
    ")"
   ]
  },
  {
   "cell_type": "code",
   "execution_count": 29,
   "metadata": {},
   "outputs": [
    {
     "name": "stdout",
     "output_type": "stream",
     "text": [
      "Linear algorithm was disabled.\n",
      "AutoML directory: AutoML_3\n",
      "The task is regression with evaluation metric mae\n",
      "AutoML will use algorithms: ['Baseline', 'Decision Tree', 'Random Forest', 'Xgboost', 'Neural Network']\n",
      "AutoML will ensemble availabe models\n",
      "AutoML steps: ['simple_algorithms', 'default_algorithms', 'ensemble']\n",
      "* Step simple_algorithms will try to check up to 2 models\n",
      "1_Baseline mae 0.22325 trained in 2.13 seconds\n",
      "2_DecisionTree mae 0.185704 trained in 51.7 seconds\n",
      "* Step default_algorithms will try to check up to 3 models\n"
     ]
    },
    {
     "name": "stderr",
     "output_type": "stream",
     "text": [
      "ntree_limit is deprecated, use `iteration_range` or model slicing instead.\n",
      "ntree_limit is deprecated, use `iteration_range` or model slicing instead.\n"
     ]
    },
    {
     "name": "stdout",
     "output_type": "stream",
     "text": [
      "3_Default_Xgboost mae 0.109884 trained in 50.04 seconds\n",
      "4_Default_NeuralNetwork mae 0.132166 trained in 16.44 seconds\n",
      "5_Default_RandomForest mae 0.161253 trained in 34.13 seconds\n",
      "* Step ensemble will try to check up to 1 model\n",
      "Ensemble mae 0.109884 trained in 1.34 seconds\n"
     ]
    },
    {
     "name": "stderr",
     "output_type": "stream",
     "text": [
      "An input array is constant; the correlation coefficent is not defined.\n"
     ]
    },
    {
     "name": "stdout",
     "output_type": "stream",
     "text": [
      "AutoML fit time: 225.09 seconds\n",
      "AutoML best model: 3_Default_Xgboost\n"
     ]
    },
    {
     "name": "stderr",
     "output_type": "stream",
     "text": [
      "ntree_limit is deprecated, use `iteration_range` or model slicing instead.\n"
     ]
    }
   ],
   "source": [
    "X_train.shape, X_test.shape, y_train.shape, y_test.shape\n",
    "# automl = AutoML()\n",
    "automl = AutoML(mode=\"Explain\",eval_metric='mae' )\n",
    "automl.fit(X_train, y_train)\n",
    "\n",
    "predictions = automl.predict(X_test)"
   ]
  },
  {
   "cell_type": "markdown",
   "metadata": {},
   "source": [
    "###  New set of results this time with mae was generated in directory\n",
    "http://localhost:8888/lab/tree/MLJAR/AutoML_3/README.md"
   ]
  },
  {
   "cell_type": "markdown",
   "metadata": {},
   "source": [
    "##  5. There is need to get back from log domain \n",
    "typically you use \n",
    "*  y_pred = np.exp(y_log_pred)\n",
    "\n",
    "here most likely there is need to modify predict method"
   ]
  },
  {
   "cell_type": "code",
   "execution_count": null,
   "metadata": {},
   "outputs": [],
   "source": [
    "y_log_pred = model.predict(X)\n",
    "y_pred = np.exp(y_log_pred)\n",
    "\n",
    "\n",
    "# so the line should be modified\n",
    "predictions = automl.predict(X_test)"
   ]
  },
  {
   "cell_type": "code",
   "execution_count": 34,
   "metadata": {},
   "outputs": [
    {
     "name": "stdout",
     "output_type": "stream",
     "text": [
      "Linear algorithm was disabled.\n",
      "AutoML directory: AutoML_4\n",
      "The task is regression with evaluation metric mae\n",
      "AutoML will use algorithms: ['Baseline', 'Decision Tree', 'Random Forest', 'Xgboost', 'Neural Network']\n",
      "AutoML will ensemble availabe models\n",
      "AutoML steps: ['simple_algorithms', 'default_algorithms', 'ensemble']\n",
      "* Step simple_algorithms will try to check up to 2 models\n",
      "1_Baseline mae 0.22325 trained in 0.5 seconds\n",
      "2_DecisionTree mae 0.185704 trained in 17.11 seconds\n",
      "* Step default_algorithms will try to check up to 3 models\n"
     ]
    },
    {
     "name": "stderr",
     "output_type": "stream",
     "text": [
      "ntree_limit is deprecated, use `iteration_range` or model slicing instead.\n",
      "ntree_limit is deprecated, use `iteration_range` or model slicing instead.\n"
     ]
    },
    {
     "name": "stdout",
     "output_type": "stream",
     "text": [
      "3_Default_Xgboost mae 0.109884 trained in 33.3 seconds\n",
      "4_Default_NeuralNetwork mae 0.132166 trained in 4.32 seconds\n",
      "5_Default_RandomForest mae 0.161253 trained in 23.94 seconds\n",
      "* Step ensemble will try to check up to 1 model\n",
      "Ensemble mae 0.109884 trained in 0.85 seconds\n"
     ]
    },
    {
     "name": "stderr",
     "output_type": "stream",
     "text": [
      "An input array is constant; the correlation coefficent is not defined.\n"
     ]
    },
    {
     "name": "stdout",
     "output_type": "stream",
     "text": [
      "AutoML fit time: 103.12 seconds\n",
      "AutoML best model: 3_Default_Xgboost\n"
     ]
    },
    {
     "name": "stderr",
     "output_type": "stream",
     "text": [
      "ntree_limit is deprecated, use `iteration_range` or model slicing instead.\n"
     ]
    }
   ],
   "source": [
    "X_train.shape, X_test.shape, y_train.shape, y_test.shape\n",
    "# automl = AutoML()\n",
    "automl = AutoML(mode=\"Explain\",eval_metric='mae' )\n",
    "automl.fit(X_train, y_train)\n",
    "\n",
    "predictions = np.exp(automl.predict(X_test)) #this gets back to normal domain but"
   ]
  },
  {
   "cell_type": "code",
   "execution_count": 32,
   "metadata": {},
   "outputs": [
    {
     "data": {
      "text/plain": [
       "{'_mode': 'Explain',\n",
       " '_ml_task': 'regression',\n",
       " '_results_path': 'AutoML_3',\n",
       " '_total_time_limit': 3600,\n",
       " '_model_time_limit': None,\n",
       " '_algorithms': ['Baseline',\n",
       "  'Decision Tree',\n",
       "  'Random Forest',\n",
       "  'Xgboost',\n",
       "  'Neural Network'],\n",
       " '_train_ensemble': True,\n",
       " '_stack_models': False,\n",
       " '_eval_metric': 'mae',\n",
       " '_validation_strategy': {'validation_type': 'split',\n",
       "  'train_ratio': 0.75,\n",
       "  'shuffle': True,\n",
       "  'X_path': 'AutoML_3/X.data',\n",
       "  'y_path': 'AutoML_3/y.data',\n",
       "  'results_path': 'AutoML_3'},\n",
       " '_verbose': 1,\n",
       " '_explain_level': 2,\n",
       " '_golden_features': False,\n",
       " '_features_selection': False,\n",
       " '_start_random_models': 1,\n",
       " '_hill_climbing_steps': 0,\n",
       " '_top_models_to_improve': 0,\n",
       " '_random_state': 1234,\n",
       " '_models': [<supervised.model_framework.ModelFramework at 0x7f6e19291b70>,\n",
       "  <supervised.model_framework.ModelFramework at 0x7f6e18f75908>,\n",
       "  <supervised.model_framework.ModelFramework at 0x7f6e16e155f8>,\n",
       "  <supervised.model_framework.ModelFramework at 0x7f6e150820b8>,\n",
       "  <supervised.model_framework.ModelFramework at 0x7f6e1495b2b0>,\n",
       "  <supervised.ensemble.Ensemble at 0x7f6e0fbd6390>],\n",
       " '_best_model': <supervised.model_framework.ModelFramework at 0x7f6e16e155f8>,\n",
       " '_threshold': None,\n",
       " '_metrics_details': None,\n",
       " '_max_metrics': None,\n",
       " '_confusion_matrix': None,\n",
       " '_X_path': 'AutoML_3/X.data',\n",
       " '_y_path': 'AutoML_3/y.data',\n",
       " '_data_info': {'columns': ['Unnamed: 0_cat',\n",
       "   'Security:_cat',\n",
       "   'Building type:_cat',\n",
       "   'Object type:_cat',\n",
       "   'Ad type:_cat',\n",
       "   'Commission agent:_cat',\n",
       "   'Construction phase:_cat',\n",
       "   'Housing class:_cat',\n",
       "   'Elevator:_cat',\n",
       "   'Bathroom type:_cat',\n",
       "   'Balcony type:_cat',\n",
       "   'Mortgage possible:_cat',\n",
       "   'The view from the window:_cat',\n",
       "   'Garbage chute:_cat',\n",
       "   'Repair:_cat',\n",
       "   'Fridge:_cat',\n",
       "   'Phone:_cat',\n",
       "   'Furniture:_cat',\n",
       "   'Free layout:_cat',\n",
       "   'It is possible to bargain:_cat',\n",
       "   'Floor covering:_cat',\n",
       "   'Room type:_cat',\n",
       "   'Internet:_cat',\n",
       "   'Kitchen furniture:_cat',\n",
       "   'TV:_cat',\n",
       "   'Washing machine:_cat',\n",
       "   'Foundation type:_cat',\n",
       "   'Overlap type:_cat',\n",
       "   'Type of the building:_cat',\n",
       "   'Playground:_cat',\n",
       "   'Class:_cat'],\n",
       "  'rows': 34270,\n",
       "  'cols': 31,\n",
       "  'target_is_numeric': True,\n",
       "  'columns_info': {'Unnamed: 0_cat': ['scale'],\n",
       "   'Security:_cat': ['scale'],\n",
       "   'Building type:_cat': ['scale'],\n",
       "   'Object type:_cat': [],\n",
       "   'Ad type:_cat': ['scale'],\n",
       "   'Commission agent:_cat': [],\n",
       "   'Construction phase:_cat': ['scale'],\n",
       "   'Housing class:_cat': ['scale'],\n",
       "   'Elevator:_cat': [],\n",
       "   'Bathroom type:_cat': ['scale'],\n",
       "   'Balcony type:_cat': ['scale'],\n",
       "   'Mortgage possible:_cat': ['scale'],\n",
       "   'The view from the window:_cat': ['scale'],\n",
       "   'Garbage chute:_cat': ['scale'],\n",
       "   'Repair:_cat': ['scale'],\n",
       "   'Fridge:_cat': ['scale'],\n",
       "   'Phone:_cat': ['scale'],\n",
       "   'Furniture:_cat': ['scale'],\n",
       "   'Free layout:_cat': ['scale'],\n",
       "   'It is possible to bargain:_cat': ['scale'],\n",
       "   'Floor covering:_cat': ['scale'],\n",
       "   'Room type:_cat': ['scale'],\n",
       "   'Internet:_cat': ['scale'],\n",
       "   'Kitchen furniture:_cat': ['scale'],\n",
       "   'TV:_cat': ['scale'],\n",
       "   'Washing machine:_cat': ['scale'],\n",
       "   'Foundation type:_cat': ['scale'],\n",
       "   'Overlap type:_cat': ['scale'],\n",
       "   'Type of the building:_cat': ['scale'],\n",
       "   'Playground:_cat': ['scale'],\n",
       "   'Class:_cat': ['scale']},\n",
       "  'target_info': ['scale'],\n",
       "  'n_features': 31,\n",
       "  'is_sample_weighted': False},\n",
       " '_model_subpaths': ['1_Baseline',\n",
       "  '2_DecisionTree',\n",
       "  '3_Default_Xgboost',\n",
       "  '4_Default_NeuralNetwork',\n",
       "  '5_Default_RandomForest',\n",
       "  'Ensemble'],\n",
       " '_stacked_models': None,\n",
       " '_fit_level': 'finished',\n",
       " '_start_time': 1624259230.3296254,\n",
       " '_time_ctrl': <supervised.tuner.time_controller.TimeController at 0x7f6e18bef978>,\n",
       " '_all_params': {'simple_algorithms': [{'additional': {'max_steps': 1,\n",
       "     'max_rows_limit': None,\n",
       "     'max_cols_limit': None},\n",
       "    'preprocessing': {'columns_preprocessing': {},\n",
       "     'target_preprocessing': ['na_exclude'],\n",
       "     'ml_task': 'regression'},\n",
       "    'validation_strategy': {'validation_type': 'split',\n",
       "     'train_ratio': 0.75,\n",
       "     'shuffle': True,\n",
       "     'X_path': 'AutoML_3/X.data',\n",
       "     'y_path': 'AutoML_3/y.data',\n",
       "     'results_path': 'AutoML_3'},\n",
       "    'learner': {'model_type': 'Baseline',\n",
       "     'ml_task': 'regression',\n",
       "     'n_jobs': -1,\n",
       "     'seed': 1235,\n",
       "     'explain_level': 2},\n",
       "    'automl_random_state': 1234,\n",
       "    'ml_task': 'regression',\n",
       "    'explain_level': 2,\n",
       "    'name': '1_Baseline',\n",
       "    'status': 'trained',\n",
       "    'final_loss': 0.22324976869857563,\n",
       "    'train_time': 3.378600835800171,\n",
       "    'data_type': 'original',\n",
       "    'max_time_for_learner': 360.0},\n",
       "   {'additional': {'trees_in_step': 1,\n",
       "     'train_cant_improve_limit': 0,\n",
       "     'max_steps': 1,\n",
       "     'max_rows_limit': None,\n",
       "     'max_cols_limit': None},\n",
       "    'preprocessing': {'columns_preprocessing': {},\n",
       "     'target_preprocessing': ['na_exclude'],\n",
       "     'ml_task': 'regression'},\n",
       "    'validation_strategy': {'validation_type': 'split',\n",
       "     'train_ratio': 0.75,\n",
       "     'shuffle': True,\n",
       "     'X_path': 'AutoML_3/X.data',\n",
       "     'y_path': 'AutoML_3/y.data',\n",
       "     'results_path': 'AutoML_3'},\n",
       "    'learner': {'model_type': 'Decision Tree',\n",
       "     'ml_task': 'regression',\n",
       "     'n_jobs': -1,\n",
       "     'seed': 1235,\n",
       "     'criterion': 'mse',\n",
       "     'max_depth': 3,\n",
       "     'explain_level': 2},\n",
       "    'automl_random_state': 1234,\n",
       "    'ml_task': 'regression',\n",
       "    'explain_level': 2,\n",
       "    'name': '2_DecisionTree',\n",
       "    'status': 'trained',\n",
       "    'final_loss': 0.18570438117618365,\n",
       "    'train_time': 54.00835394859314,\n",
       "    'data_type': 'original',\n",
       "    'max_time_for_learner': 360.0}],\n",
       "  'default_algorithms': [{'additional': {'max_rounds': 10000,\n",
       "     'early_stopping_rounds': 50,\n",
       "     'max_rows_limit': None,\n",
       "     'max_cols_limit': None},\n",
       "    'preprocessing': {'columns_preprocessing': {},\n",
       "     'target_preprocessing': ['na_exclude', 'scale_normal'],\n",
       "     'ml_task': 'regression'},\n",
       "    'validation_strategy': {'validation_type': 'split',\n",
       "     'train_ratio': 0.75,\n",
       "     'shuffle': True,\n",
       "     'X_path': 'AutoML_3/X.data',\n",
       "     'y_path': 'AutoML_3/y.data',\n",
       "     'results_path': 'AutoML_3'},\n",
       "    'learner': {'model_type': 'Xgboost',\n",
       "     'ml_task': 'regression',\n",
       "     'n_jobs': -1,\n",
       "     'objective': 'reg:squarederror',\n",
       "     'eta': 0.075,\n",
       "     'max_depth': 6,\n",
       "     'min_child_weight': 1,\n",
       "     'subsample': 1.0,\n",
       "     'colsample_bytree': 1.0,\n",
       "     'seed': 3,\n",
       "     'eval_metric': 'mae',\n",
       "     'explain_level': 2},\n",
       "    'automl_random_state': 1234,\n",
       "    'ml_task': 'regression',\n",
       "    'explain_level': 2,\n",
       "    'name': '3_Default_Xgboost',\n",
       "    'status': 'trained',\n",
       "    'final_loss': 0.10988422721684546,\n",
       "    'train_time': 54.07041668891907,\n",
       "    'data_type': 'original',\n",
       "    'max_time_for_learner': 360.0},\n",
       "   {'additional': {'max_rows_limit': None, 'max_cols_limit': None},\n",
       "    'preprocessing': {'columns_preprocessing': {'Unnamed: 0_cat': ['scale_normal'],\n",
       "      'Security:_cat': ['scale_normal'],\n",
       "      'Building type:_cat': ['scale_normal'],\n",
       "      'Ad type:_cat': ['scale_normal'],\n",
       "      'Construction phase:_cat': ['scale_normal'],\n",
       "      'Housing class:_cat': ['scale_normal'],\n",
       "      'Bathroom type:_cat': ['scale_normal'],\n",
       "      'Balcony type:_cat': ['scale_normal'],\n",
       "      'Mortgage possible:_cat': ['scale_normal'],\n",
       "      'The view from the window:_cat': ['scale_normal'],\n",
       "      'Garbage chute:_cat': ['scale_normal'],\n",
       "      'Repair:_cat': ['scale_normal'],\n",
       "      'Fridge:_cat': ['scale_normal'],\n",
       "      'Phone:_cat': ['scale_normal'],\n",
       "      'Furniture:_cat': ['scale_normal'],\n",
       "      'Free layout:_cat': ['scale_normal'],\n",
       "      'It is possible to bargain:_cat': ['scale_normal'],\n",
       "      'Floor covering:_cat': ['scale_normal'],\n",
       "      'Room type:_cat': ['scale_normal'],\n",
       "      'Internet:_cat': ['scale_normal'],\n",
       "      'Kitchen furniture:_cat': ['scale_normal'],\n",
       "      'TV:_cat': ['scale_normal'],\n",
       "      'Washing machine:_cat': ['scale_normal'],\n",
       "      'Foundation type:_cat': ['scale_normal'],\n",
       "      'Overlap type:_cat': ['scale_normal'],\n",
       "      'Type of the building:_cat': ['scale_normal'],\n",
       "      'Playground:_cat': ['scale_normal'],\n",
       "      'Class:_cat': ['scale_normal']},\n",
       "     'target_preprocessing': ['na_exclude', 'scale_normal'],\n",
       "     'ml_task': 'regression'},\n",
       "    'validation_strategy': {'validation_type': 'split',\n",
       "     'train_ratio': 0.75,\n",
       "     'shuffle': True,\n",
       "     'X_path': 'AutoML_3/X.data',\n",
       "     'y_path': 'AutoML_3/y.data',\n",
       "     'results_path': 'AutoML_3'},\n",
       "    'learner': {'model_type': 'Neural Network',\n",
       "     'ml_task': 'regression',\n",
       "     'n_jobs': -1,\n",
       "     'dense_1_size': 32,\n",
       "     'dense_2_size': 16,\n",
       "     'learning_rate': 0.05,\n",
       "     'seed': 4,\n",
       "     'explain_level': 2},\n",
       "    'automl_random_state': 1234,\n",
       "    'ml_task': 'regression',\n",
       "    'explain_level': 2,\n",
       "    'name': '4_Default_NeuralNetwork',\n",
       "    'status': 'trained',\n",
       "    'final_loss': 0.13216615046843777,\n",
       "    'train_time': 18.24969983100891,\n",
       "    'data_type': 'original',\n",
       "    'max_time_for_learner': 360.0},\n",
       "   {'additional': {'trees_in_step': 100,\n",
       "     'train_cant_improve_limit': 1,\n",
       "     'min_steps': 1,\n",
       "     'max_steps': 50,\n",
       "     'early_stopping_rounds': 50,\n",
       "     'max_rows_limit': None,\n",
       "     'max_cols_limit': None},\n",
       "    'preprocessing': {'columns_preprocessing': {},\n",
       "     'target_preprocessing': ['na_exclude', 'scale_normal'],\n",
       "     'ml_task': 'regression'},\n",
       "    'validation_strategy': {'validation_type': 'split',\n",
       "     'train_ratio': 0.75,\n",
       "     'shuffle': True,\n",
       "     'X_path': 'AutoML_3/X.data',\n",
       "     'y_path': 'AutoML_3/y.data',\n",
       "     'results_path': 'AutoML_3'},\n",
       "    'learner': {'model_type': 'Random Forest',\n",
       "     'ml_task': 'regression',\n",
       "     'n_jobs': -1,\n",
       "     'criterion': 'mse',\n",
       "     'max_features': 0.9,\n",
       "     'min_samples_split': 30,\n",
       "     'max_depth': 4,\n",
       "     'seed': 5,\n",
       "     'eval_metric_name': 'mae',\n",
       "     'explain_level': 2},\n",
       "    'automl_random_state': 1234,\n",
       "    'ml_task': 'regression',\n",
       "    'explain_level': 2,\n",
       "    'name': '5_Default_RandomForest',\n",
       "    'status': 'trained',\n",
       "    'final_loss': 0.16125252980595714,\n",
       "    'train_time': 37.752583265304565,\n",
       "    'data_type': 'original',\n",
       "    'max_time_for_learner': 360.0}],\n",
       "  'ensemble': [{'model_type': 'ensemble',\n",
       "    'is_stacked': False,\n",
       "    'name': 'Ensemble',\n",
       "    'status': 'trained',\n",
       "    'final_loss': 0.10988422692814416,\n",
       "    'train_time': 1.3420302867889404}]},\n",
       " 'n_features_in_': 31,\n",
       " 'tuner': <supervised.tuner.mljar_tuner.MljarTuner at 0x7f6e18bef9b0>,\n",
       " '_boost_on_errors': False,\n",
       " '_kmeans_features': False,\n",
       " '_mix_encoding': False,\n",
       " '_max_single_prediction_time': None,\n",
       " '_optuna_time_budget': None,\n",
       " '_optuna_init_params': {},\n",
       " '_optuna_verbose': True,\n",
       " '_n_jobs': -1,\n",
       " 'mode': 'Explain',\n",
       " 'ml_task': 'auto',\n",
       " 'results_path': None,\n",
       " 'total_time_limit': 3600,\n",
       " 'model_time_limit': None,\n",
       " 'algorithms': 'auto',\n",
       " 'train_ensemble': True,\n",
       " 'stack_models': 'auto',\n",
       " 'eval_metric': 'mae',\n",
       " 'validation_strategy': 'auto',\n",
       " 'verbose': 1,\n",
       " 'explain_level': 'auto',\n",
       " 'golden_features': 'auto',\n",
       " 'features_selection': 'auto',\n",
       " 'start_random_models': 'auto',\n",
       " 'hill_climbing_steps': 'auto',\n",
       " 'top_models_to_improve': 'auto',\n",
       " 'boost_on_errors': 'auto',\n",
       " 'kmeans_features': 'auto',\n",
       " 'mix_encoding': 'auto',\n",
       " 'max_single_prediction_time': None,\n",
       " 'optuna_time_budget': None,\n",
       " 'optuna_init_params': {},\n",
       " 'optuna_verbose': True,\n",
       " 'n_jobs': -1,\n",
       " 'random_state': 1234,\n",
       " 'n_rows_in_': 34270,\n",
       " 'n_classes': 17269,\n",
       " '_estimator_type': 'regressor',\n",
       " '_adjust_validation': False,\n",
       " '_sample_weight_path': None,\n",
       " 'ensemble': <supervised.ensemble.Ensemble at 0x7f6e0fbd6390>}"
      ]
     },
     "execution_count": 32,
     "metadata": {},
     "output_type": "execute_result"
    }
   ],
   "source": [
    "# our particular setup is as below\n",
    "automl.__dict__"
   ]
  },
  {
   "cell_type": "code",
   "execution_count": 28,
   "metadata": {},
   "outputs": [],
   "source": [
    "df['price_log']= np.log(df['price']) \n",
    "X_train, X_test, y_train, y_test = train_test_split(\n",
    "    df[num_feats], df[\"price_log\"], test_size=0.25\n",
    ")"
   ]
  },
  {
   "cell_type": "code",
   "execution_count": 24,
   "metadata": {},
   "outputs": [],
   "source": [
    "from sklearn.metrics import mean_absolute_error"
   ]
  },
  {
   "cell_type": "code",
   "execution_count": 29,
   "metadata": {},
   "outputs": [
    {
     "name": "stdout",
     "output_type": "stream",
     "text": [
      "Linear algorithm was disabled.\n",
      "AutoML directory: AutoML_5\n",
      "The task is regression with evaluation metric mae\n",
      "AutoML will use algorithms: ['Baseline', 'Decision Tree', 'Random Forest', 'Xgboost', 'Neural Network']\n",
      "AutoML will ensemble availabe models\n",
      "AutoML steps: ['simple_algorithms', 'default_algorithms', 'ensemble']\n",
      "* Step simple_algorithms will try to check up to 2 models\n",
      "1_Baseline mae 0.518299 trained in 0.47 seconds\n",
      "2_DecisionTree mae 0.429705 trained in 48.17 seconds\n",
      "* Step default_algorithms will try to check up to 3 models\n"
     ]
    },
    {
     "name": "stderr",
     "output_type": "stream",
     "text": [
      "ntree_limit is deprecated, use `iteration_range` or model slicing instead.\n",
      "ntree_limit is deprecated, use `iteration_range` or model slicing instead.\n"
     ]
    },
    {
     "name": "stdout",
     "output_type": "stream",
     "text": [
      "3_Default_Xgboost mae 0.253662 trained in 37.33 seconds\n",
      "4_Default_NeuralNetwork mae 0.296648 trained in 6.05 seconds\n",
      "5_Default_RandomForest mae 0.375579 trained in 27.63 seconds\n",
      "* Step ensemble will try to check up to 1 model\n",
      "Ensemble mae 0.253662 trained in 1.24 seconds\n"
     ]
    },
    {
     "name": "stderr",
     "output_type": "stream",
     "text": [
      "An input array is constant; the correlation coefficent is not defined.\n"
     ]
    },
    {
     "name": "stdout",
     "output_type": "stream",
     "text": [
      "AutoML fit time: 154.61 seconds\n",
      "AutoML best model: 3_Default_Xgboost\n"
     ]
    },
    {
     "name": "stderr",
     "output_type": "stream",
     "text": [
      "ntree_limit is deprecated, use `iteration_range` or model slicing instead.\n"
     ]
    }
   ],
   "source": [
    "X_train.shape, X_test.shape, y_train.shape, y_test.shape\n",
    "# automl = AutoML()\n",
    "automl = AutoML(mode=\"Explain\",eval_metric='mae' )\n",
    "automl.fit(X_train, y_train)\n",
    "\n",
    "predictions = np.exp(automl.predict(X_test)) #this gets back to normal domain but"
   ]
  },
  {
   "cell_type": "markdown",
   "metadata": {},
   "source": [
    "converting mae back from log domain will be"
   ]
  },
  {
   "cell_type": "code",
   "execution_count": 31,
   "metadata": {},
   "outputs": [
    {
     "data": {
      "text/plain": [
       "1.2887361378297375"
      ]
     },
     "execution_count": 31,
     "metadata": {},
     "output_type": "execute_result"
    }
   ],
   "source": [
    "mae_= np.exp(0.253662)\n",
    "mae_"
   ]
  },
  {
   "cell_type": "code",
   "execution_count": null,
   "metadata": {},
   "outputs": [],
   "source": []
  },
  {
   "cell_type": "code",
   "execution_count": null,
   "metadata": {},
   "outputs": [],
   "source": []
  }
 ],
 "metadata": {
  "kernelspec": {
   "display_name": "Python 3",
   "language": "python",
   "name": "python3"
  },
  "language_info": {
   "codemirror_mode": {
    "name": "ipython",
    "version": 3
   },
   "file_extension": ".py",
   "mimetype": "text/x-python",
   "name": "python",
   "nbconvert_exporter": "python",
   "pygments_lexer": "ipython3",
   "version": "3.7.3"
  }
 },
 "nbformat": 4,
 "nbformat_minor": 4
}
