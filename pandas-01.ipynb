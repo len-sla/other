{
 "cells": [
  {
   "cell_type": "code",
   "execution_count": 1,
   "metadata": {},
   "outputs": [],
   "source": [
    "import pandas as pd\n",
    "import numpy as np\n",
    "import matplotlib.pyplot as plt"
   ]
  },
  {
   "cell_type": "code",
   "execution_count": 12,
   "metadata": {},
   "outputs": [
    {
     "name": "stdout",
     "output_type": "stream",
     "text": [
      "<class 'pandas.core.frame.DataFrame'>\n",
      "RangeIndex: 7613 entries, 0 to 7612\n",
      "Data columns (total 5 columns):\n",
      " #   Column    Non-Null Count  Dtype \n",
      "---  ------    --------------  ----- \n",
      " 0   id        7613 non-null   int64 \n",
      " 1   keyword   7552 non-null   object\n",
      " 2   location  5080 non-null   object\n",
      " 3   text      7613 non-null   object\n",
      " 4   target    7613 non-null   int64 \n",
      "dtypes: int64(2), object(3)\n",
      "memory usage: 297.5+ KB\n"
     ]
    }
   ],
   "source": [
    "df= pd.read_csv('tweeter_disaster/train.csv')\n",
    "df.info()"
   ]
  },
  {
   "cell_type": "code",
   "execution_count": 17,
   "metadata": {},
   "outputs": [
    {
     "name": "stdout",
     "output_type": "stream",
     "text": [
      "2 are with missing values\n",
      "location    0.332720\n",
      "keyword     0.008013\n",
      "dtype: float64\n"
     ]
    }
   ],
   "source": [
    "missing_values= df.isnull().sum().sort_values(ascending= False)/len(df)\n",
    "print(len(missing_values[missing_values>0]), 'are with missing values' )\n",
    "print(missing_values[missing_values>0])"
   ]
  },
  {
   "cell_type": "code",
   "execution_count": 18,
   "metadata": {},
   "outputs": [
    {
     "data": {
      "text/html": [
       "<div>\n",
       "<style scoped>\n",
       "    .dataframe tbody tr th:only-of-type {\n",
       "        vertical-align: middle;\n",
       "    }\n",
       "\n",
       "    .dataframe tbody tr th {\n",
       "        vertical-align: top;\n",
       "    }\n",
       "\n",
       "    .dataframe thead th {\n",
       "        text-align: right;\n",
       "    }\n",
       "</style>\n",
       "<table border=\"1\" class=\"dataframe\">\n",
       "  <thead>\n",
       "    <tr style=\"text-align: right;\">\n",
       "      <th></th>\n",
       "      <th>id</th>\n",
       "      <th>keyword</th>\n",
       "      <th>location</th>\n",
       "      <th>text</th>\n",
       "      <th>target</th>\n",
       "    </tr>\n",
       "  </thead>\n",
       "  <tbody>\n",
       "    <tr>\n",
       "      <th>5529</th>\n",
       "      <td>7887</td>\n",
       "      <td>quarantined</td>\n",
       "      <td>NaN</td>\n",
       "      <td>Ebola: Alabama Home Quarantined Over Possible ...</td>\n",
       "      <td>1</td>\n",
       "    </tr>\n",
       "    <tr>\n",
       "      <th>87</th>\n",
       "      <td>129</td>\n",
       "      <td>accident</td>\n",
       "      <td>Maldives</td>\n",
       "      <td>RT nAAYf: First accident in years. Turning ont...</td>\n",
       "      <td>1</td>\n",
       "    </tr>\n",
       "    <tr>\n",
       "      <th>2213</th>\n",
       "      <td>3170</td>\n",
       "      <td>deluge</td>\n",
       "      <td>Brackley Beach, PE, Canada</td>\n",
       "      <td>It's a deluge in Trois-Rivieres. About one hou...</td>\n",
       "      <td>0</td>\n",
       "    </tr>\n",
       "    <tr>\n",
       "      <th>2737</th>\n",
       "      <td>3935</td>\n",
       "      <td>devastated</td>\n",
       "      <td>Banbridge</td>\n",
       "      <td>'Er indoors will be devastated. RIP Arfur. #Ge...</td>\n",
       "      <td>1</td>\n",
       "    </tr>\n",
       "    <tr>\n",
       "      <th>3819</th>\n",
       "      <td>5428</td>\n",
       "      <td>first%20responders</td>\n",
       "      <td>New York City</td>\n",
       "      <td>I just added 'Sandy First Responders Lost Thei...</td>\n",
       "      <td>1</td>\n",
       "    </tr>\n",
       "  </tbody>\n",
       "</table>\n",
       "</div>"
      ],
      "text/plain": [
       "        id             keyword                    location  \\\n",
       "5529  7887         quarantined                         NaN   \n",
       "87     129            accident                    Maldives   \n",
       "2213  3170              deluge  Brackley Beach, PE, Canada   \n",
       "2737  3935          devastated                   Banbridge   \n",
       "3819  5428  first%20responders               New York City   \n",
       "\n",
       "                                                   text  target  \n",
       "5529  Ebola: Alabama Home Quarantined Over Possible ...       1  \n",
       "87    RT nAAYf: First accident in years. Turning ont...       1  \n",
       "2213  It's a deluge in Trois-Rivieres. About one hou...       0  \n",
       "2737  'Er indoors will be devastated. RIP Arfur. #Ge...       1  \n",
       "3819  I just added 'Sandy First Responders Lost Thei...       1  "
      ]
     },
     "execution_count": 18,
     "metadata": {},
     "output_type": "execute_result"
    }
   ],
   "source": [
    "df.sample(5)"
   ]
  },
  {
   "cell_type": "markdown",
   "metadata": {},
   "source": [
    "first need to fill na it looks as it should be a str type so with empty ''\n"
   ]
  },
  {
   "cell_type": "code",
   "execution_count": 19,
   "metadata": {},
   "outputs": [
    {
     "data": {
      "text/plain": [
       "{'id': '', 'keyword': '', 'location': '', 'text': '', 'target': ''}"
      ]
     },
     "execution_count": 19,
     "metadata": {},
     "output_type": "execute_result"
    }
   ],
   "source": [
    "{x:'' for x in list(df.columns)}"
   ]
  },
  {
   "cell_type": "code",
   "execution_count": 20,
   "metadata": {},
   "outputs": [],
   "source": [
    "fillna_dict={'keyword': '', 'location': '', 'text': ''}"
   ]
  },
  {
   "cell_type": "code",
   "execution_count": 21,
   "metadata": {},
   "outputs": [
    {
     "data": {
      "text/plain": [
       "{'id': 'str',\n",
       " 'keyword': 'str',\n",
       " 'location': 'str',\n",
       " 'text': 'str',\n",
       " 'target': 'str'}"
      ]
     },
     "execution_count": 21,
     "metadata": {},
     "output_type": "execute_result"
    }
   ],
   "source": [
    "{x:'str' for x in list(df.columns)}"
   ]
  },
  {
   "cell_type": "code",
   "execution_count": 22,
   "metadata": {},
   "outputs": [],
   "source": [
    "fill_astype_dict={ 'keyword': 'str',\n",
    " 'location': 'str',\n",
    " 'text': 'str',}"
   ]
  },
  {
   "cell_type": "code",
   "execution_count": 23,
   "metadata": {},
   "outputs": [],
   "source": [
    "df= df.fillna(fillna_dict)"
   ]
  },
  {
   "cell_type": "code",
   "execution_count": 24,
   "metadata": {},
   "outputs": [
    {
     "name": "stdout",
     "output_type": "stream",
     "text": [
      "<class 'pandas.core.frame.DataFrame'>\n",
      "RangeIndex: 7613 entries, 0 to 7612\n",
      "Data columns (total 5 columns):\n",
      " #   Column    Non-Null Count  Dtype \n",
      "---  ------    --------------  ----- \n",
      " 0   id        7613 non-null   int64 \n",
      " 1   keyword   7613 non-null   object\n",
      " 2   location  7613 non-null   object\n",
      " 3   text      7613 non-null   object\n",
      " 4   target    7613 non-null   int64 \n",
      "dtypes: int64(2), object(3)\n",
      "memory usage: 297.5+ KB\n"
     ]
    }
   ],
   "source": [
    "df.info()"
   ]
  },
  {
   "cell_type": "code",
   "execution_count": 25,
   "metadata": {},
   "outputs": [
    {
     "name": "stdout",
     "output_type": "stream",
     "text": [
      "<class 'pandas.core.frame.DataFrame'>\n",
      "RangeIndex: 7613 entries, 0 to 7612\n",
      "Data columns (total 5 columns):\n",
      " #   Column    Non-Null Count  Dtype \n",
      "---  ------    --------------  ----- \n",
      " 0   id        7613 non-null   int64 \n",
      " 1   keyword   7613 non-null   object\n",
      " 2   location  7613 non-null   object\n",
      " 3   text      7613 non-null   object\n",
      " 4   target    7613 non-null   int64 \n",
      "dtypes: int64(2), object(3)\n",
      "memory usage: 297.5+ KB\n"
     ]
    }
   ],
   "source": [
    "df= df.astype(fill_astype_dict)\n",
    "df.info()"
   ]
  },
  {
   "cell_type": "code",
   "execution_count": 26,
   "metadata": {},
   "outputs": [
    {
     "data": {
      "text/html": [
       "<div>\n",
       "<style scoped>\n",
       "    .dataframe tbody tr th:only-of-type {\n",
       "        vertical-align: middle;\n",
       "    }\n",
       "\n",
       "    .dataframe tbody tr th {\n",
       "        vertical-align: top;\n",
       "    }\n",
       "\n",
       "    .dataframe thead th {\n",
       "        text-align: right;\n",
       "    }\n",
       "</style>\n",
       "<table border=\"1\" class=\"dataframe\">\n",
       "  <thead>\n",
       "    <tr style=\"text-align: right;\">\n",
       "      <th></th>\n",
       "      <th>id</th>\n",
       "      <th>keyword</th>\n",
       "      <th>location</th>\n",
       "      <th>text</th>\n",
       "      <th>target</th>\n",
       "    </tr>\n",
       "  </thead>\n",
       "  <tbody>\n",
       "    <tr>\n",
       "      <th>4366</th>\n",
       "      <td>6201</td>\n",
       "      <td>hijacker</td>\n",
       "      <td></td>\n",
       "      <td>Governor Allows Parole for School Bus Hijacker...</td>\n",
       "      <td>1</td>\n",
       "    </tr>\n",
       "    <tr>\n",
       "      <th>351</th>\n",
       "      <td>503</td>\n",
       "      <td>army</td>\n",
       "      <td></td>\n",
       "      <td>One Direction Is my pick for http://t.co/q2eBl...</td>\n",
       "      <td>0</td>\n",
       "    </tr>\n",
       "    <tr>\n",
       "      <th>3016</th>\n",
       "      <td>4330</td>\n",
       "      <td>dust%20storm</td>\n",
       "      <td></td>\n",
       "      <td>I learned more about economics from one South ...</td>\n",
       "      <td>1</td>\n",
       "    </tr>\n",
       "    <tr>\n",
       "      <th>6526</th>\n",
       "      <td>9334</td>\n",
       "      <td>survive</td>\n",
       "      <td>Trapped in my Conscience</td>\n",
       "      <td>Like it affects every level of life you're exp...</td>\n",
       "      <td>0</td>\n",
       "    </tr>\n",
       "    <tr>\n",
       "      <th>4857</th>\n",
       "      <td>6916</td>\n",
       "      <td>mass%20murderer</td>\n",
       "      <td></td>\n",
       "      <td>You happen to conveniently 'forget' about how ...</td>\n",
       "      <td>1</td>\n",
       "    </tr>\n",
       "    <tr>\n",
       "      <th>3498</th>\n",
       "      <td>4998</td>\n",
       "      <td>explosion</td>\n",
       "      <td>Long Island, NY</td>\n",
       "      <td>We found a sunflower explosion on our walk. ht...</td>\n",
       "      <td>1</td>\n",
       "    </tr>\n",
       "    <tr>\n",
       "      <th>7427</th>\n",
       "      <td>10625</td>\n",
       "      <td>wounded</td>\n",
       "      <td></td>\n",
       "      <td>Officer wounded suspect killed in exchange of ...</td>\n",
       "      <td>1</td>\n",
       "    </tr>\n",
       "  </tbody>\n",
       "</table>\n",
       "</div>"
      ],
      "text/plain": [
       "         id          keyword                   location  \\\n",
       "4366   6201         hijacker                              \n",
       "351     503             army                              \n",
       "3016   4330     dust%20storm                              \n",
       "6526   9334          survive  Trapped in my Conscience    \n",
       "4857   6916  mass%20murderer                              \n",
       "3498   4998        explosion            Long Island, NY   \n",
       "7427  10625          wounded                              \n",
       "\n",
       "                                                   text  target  \n",
       "4366  Governor Allows Parole for School Bus Hijacker...       1  \n",
       "351   One Direction Is my pick for http://t.co/q2eBl...       0  \n",
       "3016  I learned more about economics from one South ...       1  \n",
       "6526  Like it affects every level of life you're exp...       0  \n",
       "4857  You happen to conveniently 'forget' about how ...       1  \n",
       "3498  We found a sunflower explosion on our walk. ht...       1  \n",
       "7427  Officer wounded suspect killed in exchange of ...       1  "
      ]
     },
     "execution_count": 26,
     "metadata": {},
     "output_type": "execute_result"
    }
   ],
   "source": [
    "df.sample(7)"
   ]
  },
  {
   "cell_type": "code",
   "execution_count": 27,
   "metadata": {},
   "outputs": [
    {
     "data": {
      "text/plain": [
       "['id', 'keyword', 'location', 'text', 'target']"
      ]
     },
     "execution_count": 27,
     "metadata": {},
     "output_type": "execute_result"
    }
   ],
   "source": [
    "list(df.columns)"
   ]
  },
  {
   "cell_type": "code",
   "execution_count": 28,
   "metadata": {},
   "outputs": [],
   "source": [
    "# df= df.encode('utf-8', 'ignore').decode('utf-8')\n",
    "\n",
    "for a in ['keyword', 'location', 'text']:\n",
    "    df[a].apply(lambda x: x.encode('utf-8', 'ignore').decode('utf-8'))"
   ]
  },
  {
   "cell_type": "code",
   "execution_count": 29,
   "metadata": {},
   "outputs": [
    {
     "data": {
      "text/plain": [
       "Index(['id', 'keyword', 'location', 'text', 'target'], dtype='object')"
      ]
     },
     "execution_count": 29,
     "metadata": {},
     "output_type": "execute_result"
    }
   ],
   "source": [
    "df.columns"
   ]
  },
  {
   "cell_type": "code",
   "execution_count": 30,
   "metadata": {},
   "outputs": [],
   "source": [
    "df['text_len']= df['text'].apply(lambda x: len(x))"
   ]
  },
  {
   "cell_type": "code",
   "execution_count": 31,
   "metadata": {},
   "outputs": [
    {
     "data": {
      "text/html": [
       "<div>\n",
       "<style scoped>\n",
       "    .dataframe tbody tr th:only-of-type {\n",
       "        vertical-align: middle;\n",
       "    }\n",
       "\n",
       "    .dataframe tbody tr th {\n",
       "        vertical-align: top;\n",
       "    }\n",
       "\n",
       "    .dataframe thead th {\n",
       "        text-align: right;\n",
       "    }\n",
       "</style>\n",
       "<table border=\"1\" class=\"dataframe\">\n",
       "  <thead>\n",
       "    <tr style=\"text-align: right;\">\n",
       "      <th></th>\n",
       "      <th>id</th>\n",
       "      <th>keyword</th>\n",
       "      <th>location</th>\n",
       "      <th>text</th>\n",
       "      <th>target</th>\n",
       "      <th>text_len</th>\n",
       "    </tr>\n",
       "  </thead>\n",
       "  <tbody>\n",
       "    <tr>\n",
       "      <th>226</th>\n",
       "      <td>321</td>\n",
       "      <td>annihilated</td>\n",
       "      <td>the own zone layer</td>\n",
       "      <td>day 1 of tryouts went good minus the fact I st...</td>\n",
       "      <td>0</td>\n",
       "      <td>123</td>\n",
       "    </tr>\n",
       "    <tr>\n",
       "      <th>1699</th>\n",
       "      <td>2454</td>\n",
       "      <td>collided</td>\n",
       "      <td>Roanoke VA</td>\n",
       "      <td>Cyclist who collided with runner on Roanoke gr...</td>\n",
       "      <td>0</td>\n",
       "      <td>120</td>\n",
       "    </tr>\n",
       "    <tr>\n",
       "      <th>484</th>\n",
       "      <td>700</td>\n",
       "      <td>attacked</td>\n",
       "      <td>Los Angeles, CA</td>\n",
       "      <td>@envw98 @NickCoCoFree @JulieDiCaro @jdabe80 I ...</td>\n",
       "      <td>0</td>\n",
       "      <td>127</td>\n",
       "    </tr>\n",
       "    <tr>\n",
       "      <th>7587</th>\n",
       "      <td>10841</td>\n",
       "      <td></td>\n",
       "      <td></td>\n",
       "      <td>Sirens everywhere!</td>\n",
       "      <td>0</td>\n",
       "      <td>18</td>\n",
       "    </tr>\n",
       "    <tr>\n",
       "      <th>3344</th>\n",
       "      <td>4788</td>\n",
       "      <td>evacuated</td>\n",
       "      <td>Portland, Oregon</td>\n",
       "      <td>Evacuation orders lifted for Roosevelt in High...</td>\n",
       "      <td>1</td>\n",
       "      <td>114</td>\n",
       "    </tr>\n",
       "  </tbody>\n",
       "</table>\n",
       "</div>"
      ],
      "text/plain": [
       "         id      keyword             location  \\\n",
       "226     321  annihilated  the own zone layer    \n",
       "1699   2454     collided           Roanoke VA   \n",
       "484     700     attacked      Los Angeles, CA   \n",
       "7587  10841                                     \n",
       "3344   4788    evacuated     Portland, Oregon   \n",
       "\n",
       "                                                   text  target  text_len  \n",
       "226   day 1 of tryouts went good minus the fact I st...       0       123  \n",
       "1699  Cyclist who collided with runner on Roanoke gr...       0       120  \n",
       "484   @envw98 @NickCoCoFree @JulieDiCaro @jdabe80 I ...       0       127  \n",
       "7587                                 Sirens everywhere!       0        18  \n",
       "3344  Evacuation orders lifted for Roosevelt in High...       1       114  "
      ]
     },
     "execution_count": 31,
     "metadata": {},
     "output_type": "execute_result"
    }
   ],
   "source": [
    "df.sample(5)"
   ]
  },
  {
   "cell_type": "code",
   "execution_count": 32,
   "metadata": {},
   "outputs": [
    {
     "data": {
      "text/html": [
       "<div>\n",
       "<style scoped>\n",
       "    .dataframe tbody tr th:only-of-type {\n",
       "        vertical-align: middle;\n",
       "    }\n",
       "\n",
       "    .dataframe tbody tr th {\n",
       "        vertical-align: top;\n",
       "    }\n",
       "\n",
       "    .dataframe thead th {\n",
       "        text-align: right;\n",
       "    }\n",
       "</style>\n",
       "<table border=\"1\" class=\"dataframe\">\n",
       "  <thead>\n",
       "    <tr style=\"text-align: right;\">\n",
       "      <th></th>\n",
       "      <th>id</th>\n",
       "      <th>keyword</th>\n",
       "      <th>location</th>\n",
       "      <th>text</th>\n",
       "      <th>target</th>\n",
       "      <th>text_len</th>\n",
       "    </tr>\n",
       "  </thead>\n",
       "  <tbody>\n",
       "    <tr>\n",
       "      <th>4179</th>\n",
       "      <td>5935</td>\n",
       "      <td>hazard</td>\n",
       "      <td></td>\n",
       "      <td>@ClassyColkett Thorgan Hazard made his move pe...</td>\n",
       "      <td>0</td>\n",
       "      <td>82</td>\n",
       "    </tr>\n",
       "    <tr>\n",
       "      <th>4180</th>\n",
       "      <td>5937</td>\n",
       "      <td>hazard</td>\n",
       "      <td>Australia</td>\n",
       "      <td>#Lifestyle Û÷It makes me sickÛª: Baby clothe...</td>\n",
       "      <td>0</td>\n",
       "      <td>115</td>\n",
       "    </tr>\n",
       "    <tr>\n",
       "      <th>4181</th>\n",
       "      <td>5938</td>\n",
       "      <td>hazard</td>\n",
       "      <td></td>\n",
       "      <td>@LongBreastYat Yeah I don't think he's elite e...</td>\n",
       "      <td>0</td>\n",
       "      <td>108</td>\n",
       "    </tr>\n",
       "    <tr>\n",
       "      <th>4182</th>\n",
       "      <td>5939</td>\n",
       "      <td>hazard</td>\n",
       "      <td>Alameda, CA</td>\n",
       "      <td>Choking Hazard Prompts Recall Of Kraft Cheese ...</td>\n",
       "      <td>1</td>\n",
       "      <td>76</td>\n",
       "    </tr>\n",
       "    <tr>\n",
       "      <th>4183</th>\n",
       "      <td>5942</td>\n",
       "      <td>hazard</td>\n",
       "      <td>London, England</td>\n",
       "      <td>Seeing Hazard without the beard like... http:/...</td>\n",
       "      <td>0</td>\n",
       "      <td>62</td>\n",
       "    </tr>\n",
       "    <tr>\n",
       "      <th>4184</th>\n",
       "      <td>5943</td>\n",
       "      <td>hazard</td>\n",
       "      <td>Arizona</td>\n",
       "      <td>Get that hazard pay</td>\n",
       "      <td>0</td>\n",
       "      <td>19</td>\n",
       "    </tr>\n",
       "    <tr>\n",
       "      <th>4186</th>\n",
       "      <td>5947</td>\n",
       "      <td>hazard</td>\n",
       "      <td>a van down by the river</td>\n",
       "      <td>@phiddleface NOT IF THERES A CHOKING HAZARD!!!...</td>\n",
       "      <td>0</td>\n",
       "      <td>81</td>\n",
       "    </tr>\n",
       "    <tr>\n",
       "      <th>4187</th>\n",
       "      <td>5949</td>\n",
       "      <td>hazard</td>\n",
       "      <td></td>\n",
       "      <td>Road Hazard @ CASCADE RD SW / CHILDRESS DR SW ...</td>\n",
       "      <td>0</td>\n",
       "      <td>68</td>\n",
       "    </tr>\n",
       "    <tr>\n",
       "      <th>4191</th>\n",
       "      <td>5954</td>\n",
       "      <td>hazard</td>\n",
       "      <td></td>\n",
       "      <td>The Eden Hazard of Hockey https://t.co/RbbnjkoqUD</td>\n",
       "      <td>0</td>\n",
       "      <td>49</td>\n",
       "    </tr>\n",
       "    <tr>\n",
       "      <th>4192</th>\n",
       "      <td>5955</td>\n",
       "      <td>hazard</td>\n",
       "      <td>Chicago</td>\n",
       "      <td>CONFIRMED: Sanchez Hazard and Bolasie will be ...</td>\n",
       "      <td>1</td>\n",
       "      <td>101</td>\n",
       "    </tr>\n",
       "    <tr>\n",
       "      <th>4193</th>\n",
       "      <td>5956</td>\n",
       "      <td>hazard</td>\n",
       "      <td>Roppongi, Minato, Tokyo</td>\n",
       "      <td>@ThatPersianGuy @YOUNGSAFE ?? Eden Hazard as H...</td>\n",
       "      <td>0</td>\n",
       "      <td>84</td>\n",
       "    </tr>\n",
       "    <tr>\n",
       "      <th>4194</th>\n",
       "      <td>5957</td>\n",
       "      <td>hazard</td>\n",
       "      <td></td>\n",
       "      <td>I rate Hazard very highly but his fanboys are ...</td>\n",
       "      <td>0</td>\n",
       "      <td>82</td>\n",
       "    </tr>\n",
       "    <tr>\n",
       "      <th>4195</th>\n",
       "      <td>5958</td>\n",
       "      <td>hazard</td>\n",
       "      <td></td>\n",
       "      <td>@DannyRaynard not bad personally I'd get rid o...</td>\n",
       "      <td>0</td>\n",
       "      <td>106</td>\n",
       "    </tr>\n",
       "    <tr>\n",
       "      <th>4196</th>\n",
       "      <td>5959</td>\n",
       "      <td>hazard</td>\n",
       "      <td>Pleasanton, CA</td>\n",
       "      <td>Choking Hazard Prompts Recall Of Kraft Cheese ...</td>\n",
       "      <td>0</td>\n",
       "      <td>76</td>\n",
       "    </tr>\n",
       "    <tr>\n",
       "      <th>4202</th>\n",
       "      <td>5965</td>\n",
       "      <td>hazard</td>\n",
       "      <td>Chicago, IL</td>\n",
       "      <td>'Biggest lead hazard in New England history.' ...</td>\n",
       "      <td>0</td>\n",
       "      <td>97</td>\n",
       "    </tr>\n",
       "    <tr>\n",
       "      <th>4203</th>\n",
       "      <td>5966</td>\n",
       "      <td>hazard</td>\n",
       "      <td>Dil's Campsite</td>\n",
       "      <td>@Dead_Dreamer15 ...because if it were on fire ...</td>\n",
       "      <td>1</td>\n",
       "      <td>71</td>\n",
       "    </tr>\n",
       "    <tr>\n",
       "      <th>4204</th>\n",
       "      <td>5972</td>\n",
       "      <td>hazard</td>\n",
       "      <td>Massachusetts</td>\n",
       "      <td>Precious cargo onesie recalled for choking haz...</td>\n",
       "      <td>0</td>\n",
       "      <td>73</td>\n",
       "    </tr>\n",
       "    <tr>\n",
       "      <th>4205</th>\n",
       "      <td>5974</td>\n",
       "      <td>hazard</td>\n",
       "      <td></td>\n",
       "      <td>@TomDean86 he's alright but Hazard/Willian ain...</td>\n",
       "      <td>0</td>\n",
       "      <td>73</td>\n",
       "    </tr>\n",
       "    <tr>\n",
       "      <th>4206</th>\n",
       "      <td>5975</td>\n",
       "      <td>hazard</td>\n",
       "      <td></td>\n",
       "      <td>8/6/2015@1:32 PM: HAZARD IN HIGH TRAFFIC AREA ...</td>\n",
       "      <td>1</td>\n",
       "      <td>92</td>\n",
       "    </tr>\n",
       "    <tr>\n",
       "      <th>4207</th>\n",
       "      <td>5978</td>\n",
       "      <td>hazard</td>\n",
       "      <td></td>\n",
       "      <td>Battlefield 4 Funny Moments - Dukes of Hazard ...</td>\n",
       "      <td>0</td>\n",
       "      <td>110</td>\n",
       "    </tr>\n",
       "    <tr>\n",
       "      <th>4208</th>\n",
       "      <td>5979</td>\n",
       "      <td>hazard</td>\n",
       "      <td></td>\n",
       "      <td>@LondonFire Hi ..Is there an email that people...</td>\n",
       "      <td>1</td>\n",
       "      <td>111</td>\n",
       "    </tr>\n",
       "    <tr>\n",
       "      <th>4210</th>\n",
       "      <td>5981</td>\n",
       "      <td>hazard</td>\n",
       "      <td></td>\n",
       "      <td>@ArianaGrande  Girl you still lickin' public d...</td>\n",
       "      <td>0</td>\n",
       "      <td>93</td>\n",
       "    </tr>\n",
       "    <tr>\n",
       "      <th>4212</th>\n",
       "      <td>5983</td>\n",
       "      <td>hazard</td>\n",
       "      <td></td>\n",
       "      <td>8/6/2015@1:08 PM: HAZARD IN HIGH TRAFFIC AREA ...</td>\n",
       "      <td>1</td>\n",
       "      <td>91</td>\n",
       "    </tr>\n",
       "    <tr>\n",
       "      <th>4213</th>\n",
       "      <td>5985</td>\n",
       "      <td>hazardous</td>\n",
       "      <td>Nashville, Tn</td>\n",
       "      <td>Wholesale #WE Gon Rep That $hit At All Costs- ...</td>\n",
       "      <td>0</td>\n",
       "      <td>105</td>\n",
       "    </tr>\n",
       "    <tr>\n",
       "      <th>4216</th>\n",
       "      <td>5989</td>\n",
       "      <td>hazardous</td>\n",
       "      <td></td>\n",
       "      <td>DLH issues Hazardous Weather Outlook (HWO) htt...</td>\n",
       "      <td>1</td>\n",
       "      <td>65</td>\n",
       "    </tr>\n",
       "    <tr>\n",
       "      <th>4217</th>\n",
       "      <td>5990</td>\n",
       "      <td>hazardous</td>\n",
       "      <td></td>\n",
       "      <td>JAX issues Hazardous Weather Outlook (HWO) htt...</td>\n",
       "      <td>0</td>\n",
       "      <td>65</td>\n",
       "    </tr>\n",
       "    <tr>\n",
       "      <th>4219</th>\n",
       "      <td>5992</td>\n",
       "      <td>hazardous</td>\n",
       "      <td>United States</td>\n",
       "      <td>JAX issues Hazardous Weather Outlook (HWO)  ht...</td>\n",
       "      <td>1</td>\n",
       "      <td>70</td>\n",
       "    </tr>\n",
       "    <tr>\n",
       "      <th>4220</th>\n",
       "      <td>5995</td>\n",
       "      <td>hazardous</td>\n",
       "      <td>Far Away From Home</td>\n",
       "      <td>@igmpj aren't dangling piercing crystals poten...</td>\n",
       "      <td>0</td>\n",
       "      <td>78</td>\n",
       "    </tr>\n",
       "    <tr>\n",
       "      <th>4221</th>\n",
       "      <td>5996</td>\n",
       "      <td>hazardous</td>\n",
       "      <td></td>\n",
       "      <td>#foodscare #offers2go #NestleIndia slips into ...</td>\n",
       "      <td>1</td>\n",
       "      <td>117</td>\n",
       "    </tr>\n",
       "    <tr>\n",
       "      <th>4223</th>\n",
       "      <td>5998</td>\n",
       "      <td>hazardous</td>\n",
       "      <td>British Columbia, Canada</td>\n",
       "      <td>Skinny Jeans are Hazardous for Your Health! #s...</td>\n",
       "      <td>1</td>\n",
       "      <td>78</td>\n",
       "    </tr>\n",
       "    <tr>\n",
       "      <th>4226</th>\n",
       "      <td>6001</td>\n",
       "      <td>hazardous</td>\n",
       "      <td></td>\n",
       "      <td>Never fear quarrels but seek hazardous adventu...</td>\n",
       "      <td>0</td>\n",
       "      <td>74</td>\n",
       "    </tr>\n",
       "    <tr>\n",
       "      <th>4228</th>\n",
       "      <td>6003</td>\n",
       "      <td>hazardous</td>\n",
       "      <td>United States</td>\n",
       "      <td>JKL issues Hazardous Weather Outlook (HWO)  ht...</td>\n",
       "      <td>1</td>\n",
       "      <td>70</td>\n",
       "    </tr>\n",
       "    <tr>\n",
       "      <th>4230</th>\n",
       "      <td>6007</td>\n",
       "      <td>hazardous</td>\n",
       "      <td>United States</td>\n",
       "      <td>MEG issues Hazardous Weather Outlook (HWO)  ht...</td>\n",
       "      <td>1</td>\n",
       "      <td>70</td>\n",
       "    </tr>\n",
       "    <tr>\n",
       "      <th>4232</th>\n",
       "      <td>6012</td>\n",
       "      <td>hazardous</td>\n",
       "      <td></td>\n",
       "      <td>Caution: breathing may be hazardous to your he...</td>\n",
       "      <td>1</td>\n",
       "      <td>51</td>\n",
       "    </tr>\n",
       "    <tr>\n",
       "      <th>4234</th>\n",
       "      <td>6015</td>\n",
       "      <td>hazardous</td>\n",
       "      <td></td>\n",
       "      <td>@TheBlackshag @dannyoneil too toxic...cancer.....</td>\n",
       "      <td>1</td>\n",
       "      <td>86</td>\n",
       "    </tr>\n",
       "    <tr>\n",
       "      <th>4235</th>\n",
       "      <td>6017</td>\n",
       "      <td>hazardous</td>\n",
       "      <td></td>\n",
       "      <td>Caution: breathing may be hazardous to your he...</td>\n",
       "      <td>0</td>\n",
       "      <td>51</td>\n",
       "    </tr>\n",
       "    <tr>\n",
       "      <th>4236</th>\n",
       "      <td>6019</td>\n",
       "      <td>hazardous</td>\n",
       "      <td>Memphis, TN</td>\n",
       "      <td>MEG issues Hazardous Weather Outlook (HWO) htt...</td>\n",
       "      <td>1</td>\n",
       "      <td>65</td>\n",
       "    </tr>\n",
       "    <tr>\n",
       "      <th>4237</th>\n",
       "      <td>6020</td>\n",
       "      <td>hazardous</td>\n",
       "      <td></td>\n",
       "      <td>It's getting to be hazardous getting into this...</td>\n",
       "      <td>1</td>\n",
       "      <td>83</td>\n",
       "    </tr>\n",
       "    <tr>\n",
       "      <th>4238</th>\n",
       "      <td>6022</td>\n",
       "      <td>hazardous</td>\n",
       "      <td>???</td>\n",
       "      <td>@Josh_LaDo Not tweeting and driving Joshua. Ty...</td>\n",
       "      <td>0</td>\n",
       "      <td>64</td>\n",
       "    </tr>\n",
       "    <tr>\n",
       "      <th>4239</th>\n",
       "      <td>6023</td>\n",
       "      <td>hazardous</td>\n",
       "      <td>Mysore, Karnataka</td>\n",
       "      <td>#foodscare #offers2go #NestleIndia slips into ...</td>\n",
       "      <td>1</td>\n",
       "      <td>117</td>\n",
       "    </tr>\n",
       "    <tr>\n",
       "      <th>4241</th>\n",
       "      <td>6026</td>\n",
       "      <td>hazardous</td>\n",
       "      <td></td>\n",
       "      <td>MTR issues Hazardous Weather Outlook (HWO) htt...</td>\n",
       "      <td>1</td>\n",
       "      <td>65</td>\n",
       "    </tr>\n",
       "    <tr>\n",
       "      <th>4243</th>\n",
       "      <td>6030</td>\n",
       "      <td>hazardous</td>\n",
       "      <td>Canada</td>\n",
       "      <td>Skinny Jeans are Hazardous for Your Health! #s...</td>\n",
       "      <td>1</td>\n",
       "      <td>78</td>\n",
       "    </tr>\n",
       "    <tr>\n",
       "      <th>4244</th>\n",
       "      <td>6031</td>\n",
       "      <td>hazardous</td>\n",
       "      <td>New Delhi, Delhi</td>\n",
       "      <td>#foodscare #offers2go #NestleIndia slips into ...</td>\n",
       "      <td>0</td>\n",
       "      <td>117</td>\n",
       "    </tr>\n",
       "    <tr>\n",
       "      <th>4246</th>\n",
       "      <td>6033</td>\n",
       "      <td>hazardous</td>\n",
       "      <td>United States</td>\n",
       "      <td>DLH issues Hazardous Weather Outlook (HWO)  ht...</td>\n",
       "      <td>1</td>\n",
       "      <td>70</td>\n",
       "    </tr>\n",
       "    <tr>\n",
       "      <th>4247</th>\n",
       "      <td>6034</td>\n",
       "      <td>hazardous</td>\n",
       "      <td>British Columbia, Canada</td>\n",
       "      <td>Skinny Jeans are Hazardous for Your Health! #s...</td>\n",
       "      <td>1</td>\n",
       "      <td>78</td>\n",
       "    </tr>\n",
       "  </tbody>\n",
       "</table>\n",
       "</div>"
      ],
      "text/plain": [
       "        id    keyword                  location  \\\n",
       "4179  5935     hazard                             \n",
       "4180  5937     hazard                 Australia   \n",
       "4181  5938     hazard                             \n",
       "4182  5939     hazard               Alameda, CA   \n",
       "4183  5942     hazard           London, England   \n",
       "4184  5943     hazard                   Arizona   \n",
       "4186  5947     hazard   a van down by the river   \n",
       "4187  5949     hazard                             \n",
       "4191  5954     hazard                             \n",
       "4192  5955     hazard                   Chicago   \n",
       "4193  5956     hazard  Roppongi, Minato, Tokyo    \n",
       "4194  5957     hazard                             \n",
       "4195  5958     hazard                             \n",
       "4196  5959     hazard            Pleasanton, CA   \n",
       "4202  5965     hazard               Chicago, IL   \n",
       "4203  5966     hazard            Dil's Campsite   \n",
       "4204  5972     hazard             Massachusetts   \n",
       "4205  5974     hazard                             \n",
       "4206  5975     hazard                             \n",
       "4207  5978     hazard                             \n",
       "4208  5979     hazard                             \n",
       "4210  5981     hazard                             \n",
       "4212  5983     hazard                             \n",
       "4213  5985  hazardous             Nashville, Tn   \n",
       "4216  5989  hazardous                             \n",
       "4217  5990  hazardous                             \n",
       "4219  5992  hazardous             United States   \n",
       "4220  5995  hazardous        Far Away From Home   \n",
       "4221  5996  hazardous                             \n",
       "4223  5998  hazardous  British Columbia, Canada   \n",
       "4226  6001  hazardous                             \n",
       "4228  6003  hazardous             United States   \n",
       "4230  6007  hazardous             United States   \n",
       "4232  6012  hazardous                             \n",
       "4234  6015  hazardous                             \n",
       "4235  6017  hazardous                             \n",
       "4236  6019  hazardous               Memphis, TN   \n",
       "4237  6020  hazardous                             \n",
       "4238  6022  hazardous                       ???   \n",
       "4239  6023  hazardous         Mysore, Karnataka   \n",
       "4241  6026  hazardous                             \n",
       "4243  6030  hazardous                    Canada   \n",
       "4244  6031  hazardous          New Delhi, Delhi   \n",
       "4246  6033  hazardous             United States   \n",
       "4247  6034  hazardous  British Columbia, Canada   \n",
       "\n",
       "                                                   text  target  text_len  \n",
       "4179  @ClassyColkett Thorgan Hazard made his move pe...       0        82  \n",
       "4180  #Lifestyle Û÷It makes me sickÛª: Baby clothe...       0       115  \n",
       "4181  @LongBreastYat Yeah I don't think he's elite e...       0       108  \n",
       "4182  Choking Hazard Prompts Recall Of Kraft Cheese ...       1        76  \n",
       "4183  Seeing Hazard without the beard like... http:/...       0        62  \n",
       "4184                                Get that hazard pay       0        19  \n",
       "4186  @phiddleface NOT IF THERES A CHOKING HAZARD!!!...       0        81  \n",
       "4187  Road Hazard @ CASCADE RD SW / CHILDRESS DR SW ...       0        68  \n",
       "4191  The Eden Hazard of Hockey https://t.co/RbbnjkoqUD       0        49  \n",
       "4192  CONFIRMED: Sanchez Hazard and Bolasie will be ...       1       101  \n",
       "4193  @ThatPersianGuy @YOUNGSAFE ?? Eden Hazard as H...       0        84  \n",
       "4194  I rate Hazard very highly but his fanboys are ...       0        82  \n",
       "4195  @DannyRaynard not bad personally I'd get rid o...       0       106  \n",
       "4196  Choking Hazard Prompts Recall Of Kraft Cheese ...       0        76  \n",
       "4202  'Biggest lead hazard in New England history.' ...       0        97  \n",
       "4203  @Dead_Dreamer15 ...because if it were on fire ...       1        71  \n",
       "4204  Precious cargo onesie recalled for choking haz...       0        73  \n",
       "4205  @TomDean86 he's alright but Hazard/Willian ain...       0        73  \n",
       "4206  8/6/2015@1:32 PM: HAZARD IN HIGH TRAFFIC AREA ...       1        92  \n",
       "4207  Battlefield 4 Funny Moments - Dukes of Hazard ...       0       110  \n",
       "4208  @LondonFire Hi ..Is there an email that people...       1       111  \n",
       "4210  @ArianaGrande  Girl you still lickin' public d...       0        93  \n",
       "4212  8/6/2015@1:08 PM: HAZARD IN HIGH TRAFFIC AREA ...       1        91  \n",
       "4213  Wholesale #WE Gon Rep That $hit At All Costs- ...       0       105  \n",
       "4216  DLH issues Hazardous Weather Outlook (HWO) htt...       1        65  \n",
       "4217  JAX issues Hazardous Weather Outlook (HWO) htt...       0        65  \n",
       "4219  JAX issues Hazardous Weather Outlook (HWO)  ht...       1        70  \n",
       "4220  @igmpj aren't dangling piercing crystals poten...       0        78  \n",
       "4221  #foodscare #offers2go #NestleIndia slips into ...       1       117  \n",
       "4223  Skinny Jeans are Hazardous for Your Health! #s...       1        78  \n",
       "4226  Never fear quarrels but seek hazardous adventu...       0        74  \n",
       "4228  JKL issues Hazardous Weather Outlook (HWO)  ht...       1        70  \n",
       "4230  MEG issues Hazardous Weather Outlook (HWO)  ht...       1        70  \n",
       "4232  Caution: breathing may be hazardous to your he...       1        51  \n",
       "4234  @TheBlackshag @dannyoneil too toxic...cancer.....       1        86  \n",
       "4235  Caution: breathing may be hazardous to your he...       0        51  \n",
       "4236  MEG issues Hazardous Weather Outlook (HWO) htt...       1        65  \n",
       "4237  It's getting to be hazardous getting into this...       1        83  \n",
       "4238  @Josh_LaDo Not tweeting and driving Joshua. Ty...       0        64  \n",
       "4239  #foodscare #offers2go #NestleIndia slips into ...       1       117  \n",
       "4241  MTR issues Hazardous Weather Outlook (HWO) htt...       1        65  \n",
       "4243  Skinny Jeans are Hazardous for Your Health! #s...       1        78  \n",
       "4244  #foodscare #offers2go #NestleIndia slips into ...       0       117  \n",
       "4246  DLH issues Hazardous Weather Outlook (HWO)  ht...       1        70  \n",
       "4247  Skinny Jeans are Hazardous for Your Health! #s...       1        78  "
      ]
     },
     "execution_count": 32,
     "metadata": {},
     "output_type": "execute_result"
    }
   ],
   "source": [
    "df[(df['text_len']>7) &  (df['text_len']<120)  &  (df['keyword'].str.contains('hazard'))]"
   ]
  },
  {
   "cell_type": "code",
   "execution_count": 33,
   "metadata": {},
   "outputs": [
    {
     "data": {
      "text/html": [
       "<div>\n",
       "<style scoped>\n",
       "    .dataframe tbody tr th:only-of-type {\n",
       "        vertical-align: middle;\n",
       "    }\n",
       "\n",
       "    .dataframe tbody tr th {\n",
       "        vertical-align: top;\n",
       "    }\n",
       "\n",
       "    .dataframe thead th {\n",
       "        text-align: right;\n",
       "    }\n",
       "</style>\n",
       "<table border=\"1\" class=\"dataframe\">\n",
       "  <thead>\n",
       "    <tr style=\"text-align: right;\">\n",
       "      <th></th>\n",
       "      <th>id</th>\n",
       "      <th>target</th>\n",
       "      <th>text_len</th>\n",
       "    </tr>\n",
       "  </thead>\n",
       "  <tbody>\n",
       "    <tr>\n",
       "      <th>count</th>\n",
       "      <td>7613.000000</td>\n",
       "      <td>7613.00000</td>\n",
       "      <td>7613.000000</td>\n",
       "    </tr>\n",
       "    <tr>\n",
       "      <th>mean</th>\n",
       "      <td>5441.934848</td>\n",
       "      <td>0.42966</td>\n",
       "      <td>101.037436</td>\n",
       "    </tr>\n",
       "    <tr>\n",
       "      <th>std</th>\n",
       "      <td>3137.116090</td>\n",
       "      <td>0.49506</td>\n",
       "      <td>33.781325</td>\n",
       "    </tr>\n",
       "    <tr>\n",
       "      <th>min</th>\n",
       "      <td>1.000000</td>\n",
       "      <td>0.00000</td>\n",
       "      <td>7.000000</td>\n",
       "    </tr>\n",
       "    <tr>\n",
       "      <th>25%</th>\n",
       "      <td>2734.000000</td>\n",
       "      <td>0.00000</td>\n",
       "      <td>78.000000</td>\n",
       "    </tr>\n",
       "    <tr>\n",
       "      <th>50%</th>\n",
       "      <td>5408.000000</td>\n",
       "      <td>0.00000</td>\n",
       "      <td>107.000000</td>\n",
       "    </tr>\n",
       "    <tr>\n",
       "      <th>75%</th>\n",
       "      <td>8146.000000</td>\n",
       "      <td>1.00000</td>\n",
       "      <td>133.000000</td>\n",
       "    </tr>\n",
       "    <tr>\n",
       "      <th>max</th>\n",
       "      <td>10873.000000</td>\n",
       "      <td>1.00000</td>\n",
       "      <td>157.000000</td>\n",
       "    </tr>\n",
       "  </tbody>\n",
       "</table>\n",
       "</div>"
      ],
      "text/plain": [
       "                 id      target     text_len\n",
       "count   7613.000000  7613.00000  7613.000000\n",
       "mean    5441.934848     0.42966   101.037436\n",
       "std     3137.116090     0.49506    33.781325\n",
       "min        1.000000     0.00000     7.000000\n",
       "25%     2734.000000     0.00000    78.000000\n",
       "50%     5408.000000     0.00000   107.000000\n",
       "75%     8146.000000     1.00000   133.000000\n",
       "max    10873.000000     1.00000   157.000000"
      ]
     },
     "execution_count": 33,
     "metadata": {},
     "output_type": "execute_result"
    }
   ],
   "source": [
    "df.describe()"
   ]
  },
  {
   "cell_type": "code",
   "execution_count": 34,
   "metadata": {},
   "outputs": [],
   "source": [
    "import warnings\n",
    "warnings.simplefilter(\"ignore\", DeprecationWarning)\n",
    "warnings.simplefilter(\"ignore\", FutureWarning)\n",
    "from sklearn.feature_extraction.text import CountVectorizer\n",
    "from sklearn.decomposition import LatentDirichletAllocation"
   ]
  },
  {
   "cell_type": "code",
   "execution_count": 35,
   "metadata": {},
   "outputs": [],
   "source": [
    "# Initialise the count vectorizer with the English stop words\n",
    "count_vectorizer = CountVectorizer(\n",
    "    stop_words='english',\n",
    "    ngram_range=(1,1),\n",
    "    max_df=0.9,\n",
    "    min_df=2,\n",
    "    max_features=10000,\n",
    "    binary=False\n",
    ")\n",
    "\n",
    "lda = LatentDirichletAllocation(\n",
    "    n_components=10,\n",
    "    doc_topic_prior=None,  #defaults to 1/n_components; called alpha\n",
    "    n_jobs=-1,\n",
    "    max_iter=50,\n",
    "    random_state=2020\n",
    ")"
   ]
  },
  {
   "cell_type": "code",
   "execution_count": 36,
   "metadata": {},
   "outputs": [],
   "source": [
    "count_vec=count_vectorizer.fit_transform(df.text)"
   ]
  },
  {
   "cell_type": "code",
   "execution_count": 37,
   "metadata": {},
   "outputs": [],
   "source": [
    "#  |  >>> X, _ = make_multilabel_classification(random_state=0)\n",
    "#  |  >>> lda = LatentDirichletAllocation(n_components=5,\n",
    "#  |  ...     random_state=0)\n",
    "#  |  >>> lda.fit(X)"
   ]
  },
  {
   "cell_type": "code",
   "execution_count": 38,
   "metadata": {},
   "outputs": [],
   "source": [
    "lda = LatentDirichletAllocation(n_components=5, random_state=0)\n",
    "lda.fit(count_vec)\n",
    "doc_vectors = lda.transform(count_vec)"
   ]
  },
  {
   "cell_type": "code",
   "execution_count": 66,
   "metadata": {},
   "outputs": [],
   "source": [
    "lda."
   ]
  },
  {
   "cell_type": "code",
   "execution_count": 67,
   "metadata": {},
   "outputs": [],
   "source": [
    "log_likelihoods = [lda.score(d) for d in count_vec]"
   ]
  },
  {
   "cell_type": "code",
   "execution_count": 69,
   "metadata": {},
   "outputs": [],
   "source": [
    "df[\"log_likelihood\"] = log_likelihoods"
   ]
  },
  {
   "cell_type": "code",
   "execution_count": 71,
   "metadata": {},
   "outputs": [
    {
     "data": {
      "text/html": [
       "<div>\n",
       "<style scoped>\n",
       "    .dataframe tbody tr th:only-of-type {\n",
       "        vertical-align: middle;\n",
       "    }\n",
       "\n",
       "    .dataframe tbody tr th {\n",
       "        vertical-align: top;\n",
       "    }\n",
       "\n",
       "    .dataframe thead th {\n",
       "        text-align: right;\n",
       "    }\n",
       "</style>\n",
       "<table border=\"1\" class=\"dataframe\">\n",
       "  <thead>\n",
       "    <tr style=\"text-align: right;\">\n",
       "      <th></th>\n",
       "      <th>id</th>\n",
       "      <th>keyword</th>\n",
       "      <th>location</th>\n",
       "      <th>text</th>\n",
       "      <th>target</th>\n",
       "      <th>text_len</th>\n",
       "      <th>log_likelihood</th>\n",
       "    </tr>\n",
       "  </thead>\n",
       "  <tbody>\n",
       "    <tr>\n",
       "      <th>2879</th>\n",
       "      <td>4139</td>\n",
       "      <td>drought</td>\n",
       "      <td>Macon, Georgia</td>\n",
       "      <td>Moderate #drought is spreading rapidly across ...</td>\n",
       "      <td>1</td>\n",
       "      <td>130</td>\n",
       "      <td>-22248.953438</td>\n",
       "    </tr>\n",
       "    <tr>\n",
       "      <th>6677</th>\n",
       "      <td>9568</td>\n",
       "      <td>thunder</td>\n",
       "      <td>London</td>\n",
       "      <td>Okay maybe not as extreme as thunder and light...</td>\n",
       "      <td>0</td>\n",
       "      <td>116</td>\n",
       "      <td>-22238.216166</td>\n",
       "    </tr>\n",
       "    <tr>\n",
       "      <th>6100</th>\n",
       "      <td>8710</td>\n",
       "      <td>sinking</td>\n",
       "      <td>Canada</td>\n",
       "      <td>@AP \\n Too slow report the sinking boat in the...</td>\n",
       "      <td>1</td>\n",
       "      <td>76</td>\n",
       "      <td>-22230.711164</td>\n",
       "    </tr>\n",
       "    <tr>\n",
       "      <th>2224</th>\n",
       "      <td>3182</td>\n",
       "      <td>deluge</td>\n",
       "      <td>USA</td>\n",
       "      <td>Audio: 16 Business Owners Share What They Woul...</td>\n",
       "      <td>0</td>\n",
       "      <td>89</td>\n",
       "      <td>-22214.879830</td>\n",
       "    </tr>\n",
       "    <tr>\n",
       "      <th>5640</th>\n",
       "      <td>8043</td>\n",
       "      <td>refugees</td>\n",
       "      <td>tripoli international airport</td>\n",
       "      <td>@KristinDavis @UN @Refugees Thank you @UN and ...</td>\n",
       "      <td>0</td>\n",
       "      <td>141</td>\n",
       "      <td>-22225.833597</td>\n",
       "    </tr>\n",
       "    <tr>\n",
       "      <th>863</th>\n",
       "      <td>1245</td>\n",
       "      <td>blood</td>\n",
       "      <td></td>\n",
       "      <td>Can't believe more people in their mid 20's do...</td>\n",
       "      <td>1</td>\n",
       "      <td>116</td>\n",
       "      <td>-22246.760884</td>\n",
       "    </tr>\n",
       "    <tr>\n",
       "      <th>4124</th>\n",
       "      <td>5863</td>\n",
       "      <td>hailstorm</td>\n",
       "      <td>Calgary, Canada</td>\n",
       "      <td>Sadly the tent fly did not survive this hailst...</td>\n",
       "      <td>1</td>\n",
       "      <td>137</td>\n",
       "      <td>-22252.377518</td>\n",
       "    </tr>\n",
       "  </tbody>\n",
       "</table>\n",
       "</div>"
      ],
      "text/plain": [
       "        id    keyword                       location  \\\n",
       "2879  4139    drought                 Macon, Georgia   \n",
       "6677  9568    thunder                         London   \n",
       "6100  8710    sinking                         Canada   \n",
       "2224  3182     deluge                            USA   \n",
       "5640  8043   refugees  tripoli international airport   \n",
       "863   1245      blood                                  \n",
       "4124  5863  hailstorm                Calgary, Canada   \n",
       "\n",
       "                                                   text  target  text_len  \\\n",
       "2879  Moderate #drought is spreading rapidly across ...       1       130   \n",
       "6677  Okay maybe not as extreme as thunder and light...       0       116   \n",
       "6100  @AP \\n Too slow report the sinking boat in the...       1        76   \n",
       "2224  Audio: 16 Business Owners Share What They Woul...       0        89   \n",
       "5640  @KristinDavis @UN @Refugees Thank you @UN and ...       0       141   \n",
       "863   Can't believe more people in their mid 20's do...       1       116   \n",
       "4124  Sadly the tent fly did not survive this hailst...       1       137   \n",
       "\n",
       "      log_likelihood  \n",
       "2879   -22248.953438  \n",
       "6677   -22238.216166  \n",
       "6100   -22230.711164  \n",
       "2224   -22214.879830  \n",
       "5640   -22225.833597  \n",
       "863    -22246.760884  \n",
       "4124   -22252.377518  "
      ]
     },
     "execution_count": 71,
     "metadata": {},
     "output_type": "execute_result"
    }
   ],
   "source": [
    "df.sample(7)"
   ]
  },
  {
   "cell_type": "code",
   "execution_count": null,
   "metadata": {},
   "outputs": [],
   "source": [
    "df.plot.hist"
   ]
  },
  {
   "cell_type": "code",
   "execution_count": 76,
   "metadata": {},
   "outputs": [
    {
     "data": {
      "text/plain": [
       "(array([0., 0., 0., 0., 0., 0., 0., 0., 0., 0., 0., 0., 0., 0., 0., 0., 0.,\n",
       "        0., 0., 0., 0., 0., 0., 0., 0., 0., 0., 0., 0., 0., 0., 0., 0., 0.,\n",
       "        0., 0., 0., 0., 0., 0., 0., 0., 0., 0., 0., 0., 0., 0., 0., 0., 1.,\n",
       "        0., 0., 0., 0., 0., 0., 0., 0., 0., 0., 0., 0., 0., 0., 0., 0., 0.,\n",
       "        0., 0., 0., 0., 0., 0., 0., 0., 0., 0., 0., 0., 0., 0., 0., 0., 0.,\n",
       "        0., 0., 0., 0., 0., 0., 0., 0., 0., 0., 0., 0., 0., 0., 0.]),\n",
       " array([-0.5 , -0.49, -0.48, -0.47, -0.46, -0.45, -0.44, -0.43, -0.42,\n",
       "        -0.41, -0.4 , -0.39, -0.38, -0.37, -0.36, -0.35, -0.34, -0.33,\n",
       "        -0.32, -0.31, -0.3 , -0.29, -0.28, -0.27, -0.26, -0.25, -0.24,\n",
       "        -0.23, -0.22, -0.21, -0.2 , -0.19, -0.18, -0.17, -0.16, -0.15,\n",
       "        -0.14, -0.13, -0.12, -0.11, -0.1 , -0.09, -0.08, -0.07, -0.06,\n",
       "        -0.05, -0.04, -0.03, -0.02, -0.01,  0.  ,  0.01,  0.02,  0.03,\n",
       "         0.04,  0.05,  0.06,  0.07,  0.08,  0.09,  0.1 ,  0.11,  0.12,\n",
       "         0.13,  0.14,  0.15,  0.16,  0.17,  0.18,  0.19,  0.2 ,  0.21,\n",
       "         0.22,  0.23,  0.24,  0.25,  0.26,  0.27,  0.28,  0.29,  0.3 ,\n",
       "         0.31,  0.32,  0.33,  0.34,  0.35,  0.36,  0.37,  0.38,  0.39,\n",
       "         0.4 ,  0.41,  0.42,  0.43,  0.44,  0.45,  0.46,  0.47,  0.48,\n",
       "         0.49,  0.5 ]),\n",
       " <BarContainer object of 100 artists>)"
      ]
     },
     "execution_count": 76,
     "metadata": {},
     "output_type": "execute_result"
    },
    {
     "data": {
      "image/png": "[encoded data removed]",
      "text/plain": [
       "<Figure size 432x288 with 1 Axes>"
      ]
     },
     "metadata": {
      "needs_background": "light"
     },
     "output_type": "display_data"
    }
   ],
   "source": [
    "figsize=(15,5)\n",
    "plt.hist(['log_likehood'], bins=100) / #tu zapomnialem of podaniu df "
   ]
  },
  {
   "cell_type": "code",
   "execution_count": null,
   "metadata": {},
   "outputs": [],
   "source": [
    "# to ok"
   ]
  },
  {
   "cell_type": "code",
   "execution_count": 77,
   "metadata": {},
   "outputs": [
    {
     "data": {
      "image/png": "[encoded data removed]",
      "text/plain": [
       "<Figure size 1080x360 with 1 Axes>"
      ]
     },
     "metadata": {
      "needs_background": "light"
     },
     "output_type": "display_data"
    }
   ],
   "source": [
    "plt.figure(figsize=(15,5))\n",
    "plt.hist(df[\"log_likelihood\"], bins=100);"
   ]
  },
  {
   "cell_type": "code",
   "execution_count": 84,
   "metadata": {},
   "outputs": [
    {
     "name": "stdout",
     "output_type": "stream",
     "text": [
      "USGS EQ: M 1.2 - 23km S of Twentynine Palms California: Time2015-08-05 23:54:09 UTC2015-08-05 16:... http://t.co/T97JmbzOBO #EarthQuake\n",
      "2pcs 18W CREE Led Work Light  Offroad Lamp Car Truck Boat Mining 4WD FLOOD BEAM - Full reaÛ_ http://t.co/VDeFmulx43 http://t.co/yqpAIjSa5g\n",
      "#Sismo DETECTADO #JapÌ_n [Report 3] 01:02:17 Okinawa Island region M3.8 Depth 10km Maximum seismic intensity 3 JST #??\n",
      "Gunmen open fire on bus near El Salvador's capital killing 4 a week after gang attacks killed 8 bus drivers: http://t.co/Pz56zJSsfT bitÛ_\n",
      "Baltimore City : I-95 NORTH AT MP 54.8 (FORT MCHENRY TUNNEL BORE 3: Collision: I-95 NORTH AT MP 54.8 (FORT MCHENRY TUNNEL BORE 3 Nort...\n"
     ]
    }
   ],
   "source": [
    "for a in df[df['log_likelihood']< -22300].text.sample(5).to_list():\n",
    "    print(a)"
   ]
  },
  {
   "cell_type": "code",
   "execution_count": 85,
   "metadata": {},
   "outputs": [
    {
     "name": "stdout",
     "output_type": "stream",
     "text": [
      "The Twitter update pretty much wrecked the app\n",
      "Wreckage 'Conclusively Confirmed' as From MH370: Malaysia PM: Investigators and the families of those who were... http://t.co/LjylxZ1fBi\n",
      "Beastin Tapas this evening with some good folk! #funtimes #demolished http://t.co/JxUEPkmkRh\n",
      "No civilian population ever deserves demolition may we never forget &amp; learn from our mistakes #Hiroshima\n",
      "My precious olive tree lost this battle...another crazy windstorm in #yyc! @weathernetwork http://t.co/N00DVXEga2\n"
     ]
    }
   ],
   "source": [
    "for a in df[df['log_likelihood']> -22260].text.sample(5).to_list():\n",
    "    print(a)"
   ]
  },
  {
   "cell_type": "code",
   "execution_count": 88,
   "metadata": {},
   "outputs": [
    {
     "name": "stdout",
     "output_type": "stream",
     "text": [
      "-489148.8739650735\n"
     ]
    }
   ],
   "source": [
    "text = \"\"\"\n",
    "    this is very simple text should be from thotaly different fable lest see\n",
    "    what LDA would say.\n",
    "\"\"\"\n",
    "test_count_data = count_vectorizer.transform([text])\n",
    "test_log_likelihood = lda.score(count_vec)\n",
    "\n",
    "print(test_log_likelihood)"
   ]
  },
  {
   "cell_type": "code",
   "execution_count": 93,
   "metadata": {},
   "outputs": [
    {
     "data": {
      "image/png": "[encoded data removed]",
      "text/plain": [
       "<Figure size 1080x360 with 1 Axes>"
      ]
     },
     "metadata": {
      "needs_background": "light"
     },
     "output_type": "display_data"
    }
   ],
   "source": [
    "df.log_likelihood.hist(bins=100, figsize=(15,5));"
   ]
  },
  {
   "source": [
    "# Split by character"
   ],
   "cell_type": "markdown",
   "metadata": {}
  },
  {
   "cell_type": "code",
   "execution_count": null,
   "metadata": {},
   "outputs": [],
   "source": [
    "temp_table= data['Name'].str.split(\" \", n=1, expand=True)\n",
    "temp_table"
   ]
  },
  {
   "cell_type": "code",
   "execution_count": null,
   "metadata": {},
   "outputs": [],
   "source": [
    "data['First Name']= temp_table[0]\n",
    "data['Last Name']= temp_table[1]"
   ]
  },
  {
   "cell_type": "code",
   "execution_count": null,
   "metadata": {},
   "outputs": [],
   "source": [
    "clean_dict={'%':''}"
   ]
  },
  {
   "cell_type": "code",
   "execution_count": null,
   "metadata": {},
   "outputs": [],
   "source": [
    "df1= df1.replace(clean_dict, regex=True)"
   ]
  },
  {
   "cell_type": "code",
   "execution_count": null,
   "metadata": {},
   "outputs": [],
   "source": [
    "df1.loc[2], df1.iloc[2]"
   ]
  },
  {
   "source": [
    "# ast.literal.eval() to restore original data type"
   ],
   "cell_type": "markdown",
   "metadata": {}
  },
  {
   "cell_type": "code",
   "execution_count": null,
   "metadata": {},
   "outputs": [],
   "source": [
    "df.ast.literal.eval()"
   ]
  },
  {
   "cell_type": "code",
   "execution_count": null,
   "metadata": {},
   "outputs": [],
   "source": [
    "def read_harry_potter():\n",
    "    lines = []\n",
    "    with open(\"../input/harry_potter.txt\", \"r\") as f:\n",
    "        for line in f.readlines():\n",
    "            line = line.replace(\"\\n\", \" \")\n",
    "            if line:\n",
    "                lines.append(line)\n",
    "                \n",
    "    return \"\".join(lines)"
   ]
  },
  {
   "cell_type": "code",
   "execution_count": null,
   "metadata": {},
   "outputs": [],
   "source": [
    "text=read_harry_potter()"
   ]
  },
  {
   "cell_type": "code",
   "execution_count": null,
   "metadata": {},
   "outputs": [],
   "source": [
    "df['words_len'] = df['text'].map(lambda x: len(x))\n",
    "\n",
    "for percentile in [50, 75, 90, 95, 98, 99, 100]:\n",
    "    print(percentile, np.percentile(df['words_len'], percentile))\n",
    "    \n",
    "df['words_len'].hist(bins=50);"
   ]
  },
  {
   "cell_type": "code",
   "execution_count": null,
   "metadata": {},
   "outputs": [],
   "source": [
    "df_light = df.sample(frac=0.1)"
   ]
  },
  {
   "cell_type": "code",
   "execution_count": null,
   "metadata": {},
   "outputs": [],
   "source": [
    "df['Product'].value_counts()"
   ]
  },
  {
   "cell_type": "code",
   "execution_count": null,
   "metadata": {},
   "outputs": [],
   "source": [
    "df['label'] = df['target']\n",
    "df['target'] = df['target'].factorize()[0]\n",
    "df['doc_id'] = df.index"
   ]
  },
  {
   "cell_type": "code",
   "execution_count": null,
   "metadata": {},
   "outputs": [],
   "source": []
  }
 ],
 "metadata": {
  "kernelspec": {
   "display_name": "Python 3",
   "language": "python",
   "name": "python3"
  },
  "language_info": {
   "codemirror_mode": {
    "name": "ipython",
    "version": 3
   },
   "file_extension": ".py",
   "mimetype": "text/x-python",
   "name": "python",
   "nbconvert_exporter": "python",
   "pygments_lexer": "ipython3",
   "version": "3.7.3"
  }
 },
 "nbformat": 4,
 "nbformat_minor": 4
}